{
  "nbformat": 4,
  "nbformat_minor": 0,
  "metadata": {
    "colab": {
      "name": "Analysis of my LinkedIn Data.ipynb",
      "provenance": [],
      "collapsed_sections": [],
      "authorship_tag": "ABX9TyPda1d3oJF6sgAnNS90g+6H",
      "include_colab_link": true
    },
    "kernelspec": {
      "name": "python3",
      "display_name": "Python 3"
    },
    "language_info": {
      "name": "python"
    }
  },
  "cells": [
    {
      "cell_type": "markdown",
      "metadata": {
        "id": "view-in-github",
        "colab_type": "text"
      },
      "source": [
        "<a href=\"https://colab.research.google.com/github/Divyanshu21dg/Divyanshu21dg/blob/main/Analysis_of_my_LinkedIn_Data.ipynb\" target=\"_parent\"><img src=\"https://colab.research.google.com/assets/colab-badge.svg\" alt=\"Open In Colab\"/></a>"
      ]
    },
    {
      "cell_type": "code",
      "execution_count": 2,
      "metadata": {
        "id": "pOgVimueh_8L"
      },
      "outputs": [],
      "source": [
        "import pandas as pd"
      ]
    },
    {
      "cell_type": "code",
      "source": [
        "data = pd.read_csv(\"/content/Connections.csv\")"
      ],
      "metadata": {
        "id": "qjl6e_7zi1fK"
      },
      "execution_count": 4,
      "outputs": []
    },
    {
      "cell_type": "code",
      "source": [
        "data.head(10)"
      ],
      "metadata": {
        "colab": {
          "base_uri": "https://localhost:8080/",
          "height": 476
        },
        "id": "pwWq4yLdk-ho",
        "outputId": "dff2060c-59d3-4821-b9ed-ef2d3a946b3a"
      },
      "execution_count": 5,
      "outputs": [
        {
          "output_type": "execute_result",
          "data": {
            "text/plain": [
              "      First Name       Last Name        Email Address  \\\n",
              "0         Hardik           Darji                  NaN   \n",
              "1         Neeraj        Bhargava                  NaN   \n",
              "2         Ujjwal       Choudhary  ukcujjwal@gmail.com   \n",
              "3  Bommana Vansi        Krishna.                  NaN   \n",
              "4            Tom         Abraham                  NaN   \n",
              "5          Ankur           Muley                  NaN   \n",
              "6      Sangeetha   Senthilselvan                  NaN   \n",
              "7           Ajay           Yadav                  NaN   \n",
              "8        Vaibhav           Ghadi                  NaN   \n",
              "9        Shalini  vakulabharanam                  NaN   \n",
              "\n",
              "                                    Company                 Position  \\\n",
              "0                                Thriive.in   Marketing Data Analyst   \n",
              "1                                       NaN                      NaN   \n",
              "2                           Indium Software           Data Scientist   \n",
              "3                                       NaN                      NaN   \n",
              "4  Rotana Hotel Management Corporation PJSC          Head Supervisor   \n",
              "5                                Altimetrik     Senior Data Engineer   \n",
              "6                                 NielsenIQ  Data Processing Analyst   \n",
              "7                                    BYJU'S         Business Analyst   \n",
              "8                                     Anuvu    Metadata co-ordinator   \n",
              "9                                  EbixCash         Business Analyst   \n",
              "\n",
              "  Connected On  \n",
              "0    26-Jul-22  \n",
              "1    26-Jul-22  \n",
              "2    26-Jul-22  \n",
              "3    26-Jul-22  \n",
              "4    20-Jul-22  \n",
              "5    14-Jul-22  \n",
              "6    13-Jul-22  \n",
              "7    09-Jul-22  \n",
              "8    07-Jul-22  \n",
              "9    06-Jul-22  "
            ],
            "text/html": [
              "\n",
              "  <div id=\"df-f8f9a4c3-d37d-4567-bca3-535680ed5b6e\">\n",
              "    <div class=\"colab-df-container\">\n",
              "      <div>\n",
              "<style scoped>\n",
              "    .dataframe tbody tr th:only-of-type {\n",
              "        vertical-align: middle;\n",
              "    }\n",
              "\n",
              "    .dataframe tbody tr th {\n",
              "        vertical-align: top;\n",
              "    }\n",
              "\n",
              "    .dataframe thead th {\n",
              "        text-align: right;\n",
              "    }\n",
              "</style>\n",
              "<table border=\"1\" class=\"dataframe\">\n",
              "  <thead>\n",
              "    <tr style=\"text-align: right;\">\n",
              "      <th></th>\n",
              "      <th>First Name</th>\n",
              "      <th>Last Name</th>\n",
              "      <th>Email Address</th>\n",
              "      <th>Company</th>\n",
              "      <th>Position</th>\n",
              "      <th>Connected On</th>\n",
              "    </tr>\n",
              "  </thead>\n",
              "  <tbody>\n",
              "    <tr>\n",
              "      <th>0</th>\n",
              "      <td>Hardik</td>\n",
              "      <td>Darji</td>\n",
              "      <td>NaN</td>\n",
              "      <td>Thriive.in</td>\n",
              "      <td>Marketing Data Analyst</td>\n",
              "      <td>26-Jul-22</td>\n",
              "    </tr>\n",
              "    <tr>\n",
              "      <th>1</th>\n",
              "      <td>Neeraj</td>\n",
              "      <td>Bhargava</td>\n",
              "      <td>NaN</td>\n",
              "      <td>NaN</td>\n",
              "      <td>NaN</td>\n",
              "      <td>26-Jul-22</td>\n",
              "    </tr>\n",
              "    <tr>\n",
              "      <th>2</th>\n",
              "      <td>Ujjwal</td>\n",
              "      <td>Choudhary</td>\n",
              "      <td>ukcujjwal@gmail.com</td>\n",
              "      <td>Indium Software</td>\n",
              "      <td>Data Scientist</td>\n",
              "      <td>26-Jul-22</td>\n",
              "    </tr>\n",
              "    <tr>\n",
              "      <th>3</th>\n",
              "      <td>Bommana Vansi</td>\n",
              "      <td>Krishna.</td>\n",
              "      <td>NaN</td>\n",
              "      <td>NaN</td>\n",
              "      <td>NaN</td>\n",
              "      <td>26-Jul-22</td>\n",
              "    </tr>\n",
              "    <tr>\n",
              "      <th>4</th>\n",
              "      <td>Tom</td>\n",
              "      <td>Abraham</td>\n",
              "      <td>NaN</td>\n",
              "      <td>Rotana Hotel Management Corporation PJSC</td>\n",
              "      <td>Head Supervisor</td>\n",
              "      <td>20-Jul-22</td>\n",
              "    </tr>\n",
              "    <tr>\n",
              "      <th>5</th>\n",
              "      <td>Ankur</td>\n",
              "      <td>Muley</td>\n",
              "      <td>NaN</td>\n",
              "      <td>Altimetrik</td>\n",
              "      <td>Senior Data Engineer</td>\n",
              "      <td>14-Jul-22</td>\n",
              "    </tr>\n",
              "    <tr>\n",
              "      <th>6</th>\n",
              "      <td>Sangeetha</td>\n",
              "      <td>Senthilselvan</td>\n",
              "      <td>NaN</td>\n",
              "      <td>NielsenIQ</td>\n",
              "      <td>Data Processing Analyst</td>\n",
              "      <td>13-Jul-22</td>\n",
              "    </tr>\n",
              "    <tr>\n",
              "      <th>7</th>\n",
              "      <td>Ajay</td>\n",
              "      <td>Yadav</td>\n",
              "      <td>NaN</td>\n",
              "      <td>BYJU'S</td>\n",
              "      <td>Business Analyst</td>\n",
              "      <td>09-Jul-22</td>\n",
              "    </tr>\n",
              "    <tr>\n",
              "      <th>8</th>\n",
              "      <td>Vaibhav</td>\n",
              "      <td>Ghadi</td>\n",
              "      <td>NaN</td>\n",
              "      <td>Anuvu</td>\n",
              "      <td>Metadata co-ordinator</td>\n",
              "      <td>07-Jul-22</td>\n",
              "    </tr>\n",
              "    <tr>\n",
              "      <th>9</th>\n",
              "      <td>Shalini</td>\n",
              "      <td>vakulabharanam</td>\n",
              "      <td>NaN</td>\n",
              "      <td>EbixCash</td>\n",
              "      <td>Business Analyst</td>\n",
              "      <td>06-Jul-22</td>\n",
              "    </tr>\n",
              "  </tbody>\n",
              "</table>\n",
              "</div>\n",
              "      <button class=\"colab-df-convert\" onclick=\"convertToInteractive('df-f8f9a4c3-d37d-4567-bca3-535680ed5b6e')\"\n",
              "              title=\"Convert this dataframe to an interactive table.\"\n",
              "              style=\"display:none;\">\n",
              "        \n",
              "  <svg xmlns=\"http://www.w3.org/2000/svg\" height=\"24px\"viewBox=\"0 0 24 24\"\n",
              "       width=\"24px\">\n",
              "    <path d=\"M0 0h24v24H0V0z\" fill=\"none\"/>\n",
              "    <path d=\"M18.56 5.44l.94 2.06.94-2.06 2.06-.94-2.06-.94-.94-2.06-.94 2.06-2.06.94zm-11 1L8.5 8.5l.94-2.06 2.06-.94-2.06-.94L8.5 2.5l-.94 2.06-2.06.94zm10 10l.94 2.06.94-2.06 2.06-.94-2.06-.94-.94-2.06-.94 2.06-2.06.94z\"/><path d=\"M17.41 7.96l-1.37-1.37c-.4-.4-.92-.59-1.43-.59-.52 0-1.04.2-1.43.59L10.3 9.45l-7.72 7.72c-.78.78-.78 2.05 0 2.83L4 21.41c.39.39.9.59 1.41.59.51 0 1.02-.2 1.41-.59l7.78-7.78 2.81-2.81c.8-.78.8-2.07 0-2.86zM5.41 20L4 18.59l7.72-7.72 1.47 1.35L5.41 20z\"/>\n",
              "  </svg>\n",
              "      </button>\n",
              "      \n",
              "  <style>\n",
              "    .colab-df-container {\n",
              "      display:flex;\n",
              "      flex-wrap:wrap;\n",
              "      gap: 12px;\n",
              "    }\n",
              "\n",
              "    .colab-df-convert {\n",
              "      background-color: #E8F0FE;\n",
              "      border: none;\n",
              "      border-radius: 50%;\n",
              "      cursor: pointer;\n",
              "      display: none;\n",
              "      fill: #1967D2;\n",
              "      height: 32px;\n",
              "      padding: 0 0 0 0;\n",
              "      width: 32px;\n",
              "    }\n",
              "\n",
              "    .colab-df-convert:hover {\n",
              "      background-color: #E2EBFA;\n",
              "      box-shadow: 0px 1px 2px rgba(60, 64, 67, 0.3), 0px 1px 3px 1px rgba(60, 64, 67, 0.15);\n",
              "      fill: #174EA6;\n",
              "    }\n",
              "\n",
              "    [theme=dark] .colab-df-convert {\n",
              "      background-color: #3B4455;\n",
              "      fill: #D2E3FC;\n",
              "    }\n",
              "\n",
              "    [theme=dark] .colab-df-convert:hover {\n",
              "      background-color: #434B5C;\n",
              "      box-shadow: 0px 1px 3px 1px rgba(0, 0, 0, 0.15);\n",
              "      filter: drop-shadow(0px 1px 2px rgba(0, 0, 0, 0.3));\n",
              "      fill: #FFFFFF;\n",
              "    }\n",
              "  </style>\n",
              "\n",
              "      <script>\n",
              "        const buttonEl =\n",
              "          document.querySelector('#df-f8f9a4c3-d37d-4567-bca3-535680ed5b6e button.colab-df-convert');\n",
              "        buttonEl.style.display =\n",
              "          google.colab.kernel.accessAllowed ? 'block' : 'none';\n",
              "\n",
              "        async function convertToInteractive(key) {\n",
              "          const element = document.querySelector('#df-f8f9a4c3-d37d-4567-bca3-535680ed5b6e');\n",
              "          const dataTable =\n",
              "            await google.colab.kernel.invokeFunction('convertToInteractive',\n",
              "                                                     [key], {});\n",
              "          if (!dataTable) return;\n",
              "\n",
              "          const docLinkHtml = 'Like what you see? Visit the ' +\n",
              "            '<a target=\"_blank\" href=https://colab.research.google.com/notebooks/data_table.ipynb>data table notebook</a>'\n",
              "            + ' to learn more about interactive tables.';\n",
              "          element.innerHTML = '';\n",
              "          dataTable['output_type'] = 'display_data';\n",
              "          await google.colab.output.renderOutput(dataTable, element);\n",
              "          const docLink = document.createElement('div');\n",
              "          docLink.innerHTML = docLinkHtml;\n",
              "          element.appendChild(docLink);\n",
              "        }\n",
              "      </script>\n",
              "    </div>\n",
              "  </div>\n",
              "  "
            ]
          },
          "metadata": {},
          "execution_count": 5
        }
      ]
    },
    {
      "cell_type": "markdown",
      "source": [
        "Let’s see how many connections I have on Linkedin:"
      ],
      "metadata": {
        "id": "5J8BraACpFRz"
      }
    },
    {
      "cell_type": "code",
      "source": [
        "data.shape"
      ],
      "metadata": {
        "colab": {
          "base_uri": "https://localhost:8080/"
        },
        "id": "Ly42HFqLpEdS",
        "outputId": "ce7cfb06-c50f-4066-920f-3f302af19392"
      },
      "execution_count": 6,
      "outputs": [
        {
          "output_type": "execute_result",
          "data": {
            "text/plain": [
              "(402, 6)"
            ]
          },
          "metadata": {},
          "execution_count": 6
        }
      ]
    },
    {
      "cell_type": "markdown",
      "source": [
        "I have 400+ connections on Linkedin\n",
        "\n",
        "\n"
      ],
      "metadata": {
        "id": "HOeruCn_pV8N"
      }
    },
    {
      "cell_type": "markdown",
      "source": [
        "Timeline: How is my Connection activity overtime?"
      ],
      "metadata": {
        "id": "kWNUoJF2pwr7"
      }
    },
    {
      "cell_type": "markdown",
      "source": [
        "Let’s find out how my Connection activities has been so far. That’s how I have been sending connections and receiving connections over time.\n"
      ],
      "metadata": {
        "id": "A6EmTBlhpyxS"
      }
    },
    {
      "cell_type": "code",
      "source": [
        "data = data.sort_values(by = 'Connected On')"
      ],
      "metadata": {
        "id": "gNJQyU7lpbfU"
      },
      "execution_count": 7,
      "outputs": []
    },
    {
      "cell_type": "code",
      "source": [
        "import plotly.express as px\n",
        "px.line(data.groupby('Connected On').count().reset_index(),\n",
        "        x = 'Connected On',\n",
        "        y = 'First Name',\n",
        "        labels = {'First Name':'Number of Connections'},\n",
        "        title = 'Connection Timeline')\n"
      ],
      "metadata": {
        "colab": {
          "base_uri": "https://localhost:8080/",
          "height": 542
        },
        "id": "b_oD_665pbq8",
        "outputId": "98ed6dc3-3c3b-4333-e1fa-f55d5e961f50"
      },
      "execution_count": 16,
      "outputs": [
        {
          "output_type": "display_data",
          "data": {
            "text/html": [
              "<html>\n",
              "<head><meta charset=\"utf-8\" /></head>\n",
              "<body>\n",
              "    <div>            <script src=\"https://cdnjs.cloudflare.com/ajax/libs/mathjax/2.7.5/MathJax.js?config=TeX-AMS-MML_SVG\"></script><script type=\"text/javascript\">if (window.MathJax) {MathJax.Hub.Config({SVG: {font: \"STIX-Web\"}});}</script>                <script type=\"text/javascript\">window.PlotlyConfig = {MathJaxConfig: 'local'};</script>\n",
              "        <script src=\"https://cdn.plot.ly/plotly-2.8.3.min.js\"></script>                <div id=\"3d4584ef-5b61-420f-88aa-0f0facdebdc2\" class=\"plotly-graph-div\" style=\"height:525px; width:100%;\"></div>            <script type=\"text/javascript\">                                    window.PLOTLYENV=window.PLOTLYENV || {};                                    if (document.getElementById(\"3d4584ef-5b61-420f-88aa-0f0facdebdc2\")) {                    Plotly.newPlot(                        \"3d4584ef-5b61-420f-88aa-0f0facdebdc2\",                        [{\"hovertemplate\":\"Connected On=%{x}<br>Number of Connections=%{y}<extra></extra>\",\"legendgroup\":\"\",\"line\":{\"color\":\"#636efa\",\"dash\":\"solid\"},\"marker\":{\"symbol\":\"circle\"},\"mode\":\"lines\",\"name\":\"\",\"orientation\":\"v\",\"showlegend\":false,\"x\":[\"01-Apr-21\",\"01-Apr-22\",\"01-Jul-22\",\"01-Jun-22\",\"01-May-22\",\"02-Apr-21\",\"02-Apr-22\",\"02-Jun-22\",\"02-Mar-22\",\"02-May-22\",\"03-Apr-18\",\"03-Apr-22\",\"03-Jul-22\",\"03-Mar-22\",\"03-May-22\",\"04-Apr-22\",\"04-Jul-22\",\"04-Jun-22\",\"04-Mar-22\",\"04-May-22\",\"05-Apr-22\",\"05-Jun-22\",\"05-May-22\",\"06-Apr-22\",\"06-Jul-22\",\"06-Jun-22\",\"06-Mar-22\",\"06-Oct-21\",\"07-Apr-22\",\"07-Jul-22\",\"07-Jun-22\",\"07-Mar-22\",\"08-Apr-21\",\"08-Apr-22\",\"08-Dec-21\",\"08-Jun-21\",\"08-Jun-22\",\"08-Mar-22\",\"09-Jul-22\",\"09-Jun-22\",\"09-Mar-22\",\"10-Apr-22\",\"10-Jun-22\",\"10-Mar-22\",\"11-Apr-22\",\"11-Jun-22\",\"11-Mar-22\",\"11-May-22\",\"12-Apr-22\",\"12-Jun-22\",\"12-May-22\",\"13-Apr-22\",\"13-Jul-22\",\"13-Jun-22\",\"13-Mar-22\",\"13-May-22\",\"14-Apr-21\",\"14-Apr-22\",\"14-Jul-22\",\"14-Jun-22\",\"14-Mar-22\",\"15-Dec-21\",\"15-Jun-22\",\"15-Mar-22\",\"16-Apr-22\",\"16-Jan-22\",\"16-Jun-22\",\"16-Mar-22\",\"16-May-22\",\"17-Apr-22\",\"17-Jun-22\",\"17-Mar-22\",\"17-Oct-18\",\"18-Apr-22\",\"18-Jun-22\",\"18-Mar-22\",\"18-May-22\",\"19-Apr-22\",\"19-Mar-22\",\"19-May-22\",\"20-Apr-22\",\"20-Jul-22\",\"20-Jun-22\",\"21-Jun-22\",\"21-Mar-22\",\"21-Sep-21\",\"22-Apr-22\",\"22-Jun-22\",\"22-Mar-22\",\"22-May-22\",\"23-Apr-22\",\"23-Dec-21\",\"23-Jun-22\",\"23-Mar-22\",\"23-May-22\",\"23-Sep-21\",\"24-Apr-22\",\"24-Jun-22\",\"25-Apr-22\",\"25-Feb-22\",\"25-Jun-22\",\"25-May-22\",\"26-Apr-22\",\"26-Jul-22\",\"26-Jun-22\",\"26-Sep-21\",\"27-Apr-22\",\"27-Jun-22\",\"27-Oct-21\",\"27-Sep-21\",\"28-Apr-22\",\"28-Jun-22\",\"28-May-22\",\"29-Jun-22\",\"29-Mar-22\",\"29-May-22\",\"30-Apr-22\",\"30-Jun-22\",\"30-May-22\",\"31-Mar-22\",\"31-May-22\"],\"xaxis\":\"x\",\"y\":[2,6,2,1,3,2,9,1,3,4,1,1,1,1,1,3,1,2,1,1,2,1,1,3,2,2,4,1,6,1,1,2,1,1,1,1,16,3,1,4,4,4,4,1,9,21,3,18,18,1,1,3,1,4,12,22,1,5,1,1,3,3,2,1,1,1,2,6,1,12,2,6,2,1,4,2,1,2,4,7,1,1,1,2,3,2,1,1,1,2,6,1,1,1,1,1,1,1,3,1,1,1,1,4,2,0,2,4,1,1,1,4,19,1,6,1,5,1,9,2,2],\"yaxis\":\"y\",\"type\":\"scatter\"}],                        {\"template\":{\"data\":{\"bar\":[{\"error_x\":{\"color\":\"#2a3f5f\"},\"error_y\":{\"color\":\"#2a3f5f\"},\"marker\":{\"line\":{\"color\":\"#E5ECF6\",\"width\":0.5},\"pattern\":{\"fillmode\":\"overlay\",\"size\":10,\"solidity\":0.2}},\"type\":\"bar\"}],\"barpolar\":[{\"marker\":{\"line\":{\"color\":\"#E5ECF6\",\"width\":0.5},\"pattern\":{\"fillmode\":\"overlay\",\"size\":10,\"solidity\":0.2}},\"type\":\"barpolar\"}],\"carpet\":[{\"aaxis\":{\"endlinecolor\":\"#2a3f5f\",\"gridcolor\":\"white\",\"linecolor\":\"white\",\"minorgridcolor\":\"white\",\"startlinecolor\":\"#2a3f5f\"},\"baxis\":{\"endlinecolor\":\"#2a3f5f\",\"gridcolor\":\"white\",\"linecolor\":\"white\",\"minorgridcolor\":\"white\",\"startlinecolor\":\"#2a3f5f\"},\"type\":\"carpet\"}],\"choropleth\":[{\"colorbar\":{\"outlinewidth\":0,\"ticks\":\"\"},\"type\":\"choropleth\"}],\"contour\":[{\"colorbar\":{\"outlinewidth\":0,\"ticks\":\"\"},\"colorscale\":[[0.0,\"#0d0887\"],[0.1111111111111111,\"#46039f\"],[0.2222222222222222,\"#7201a8\"],[0.3333333333333333,\"#9c179e\"],[0.4444444444444444,\"#bd3786\"],[0.5555555555555556,\"#d8576b\"],[0.6666666666666666,\"#ed7953\"],[0.7777777777777778,\"#fb9f3a\"],[0.8888888888888888,\"#fdca26\"],[1.0,\"#f0f921\"]],\"type\":\"contour\"}],\"contourcarpet\":[{\"colorbar\":{\"outlinewidth\":0,\"ticks\":\"\"},\"type\":\"contourcarpet\"}],\"heatmap\":[{\"colorbar\":{\"outlinewidth\":0,\"ticks\":\"\"},\"colorscale\":[[0.0,\"#0d0887\"],[0.1111111111111111,\"#46039f\"],[0.2222222222222222,\"#7201a8\"],[0.3333333333333333,\"#9c179e\"],[0.4444444444444444,\"#bd3786\"],[0.5555555555555556,\"#d8576b\"],[0.6666666666666666,\"#ed7953\"],[0.7777777777777778,\"#fb9f3a\"],[0.8888888888888888,\"#fdca26\"],[1.0,\"#f0f921\"]],\"type\":\"heatmap\"}],\"heatmapgl\":[{\"colorbar\":{\"outlinewidth\":0,\"ticks\":\"\"},\"colorscale\":[[0.0,\"#0d0887\"],[0.1111111111111111,\"#46039f\"],[0.2222222222222222,\"#7201a8\"],[0.3333333333333333,\"#9c179e\"],[0.4444444444444444,\"#bd3786\"],[0.5555555555555556,\"#d8576b\"],[0.6666666666666666,\"#ed7953\"],[0.7777777777777778,\"#fb9f3a\"],[0.8888888888888888,\"#fdca26\"],[1.0,\"#f0f921\"]],\"type\":\"heatmapgl\"}],\"histogram\":[{\"marker\":{\"pattern\":{\"fillmode\":\"overlay\",\"size\":10,\"solidity\":0.2}},\"type\":\"histogram\"}],\"histogram2d\":[{\"colorbar\":{\"outlinewidth\":0,\"ticks\":\"\"},\"colorscale\":[[0.0,\"#0d0887\"],[0.1111111111111111,\"#46039f\"],[0.2222222222222222,\"#7201a8\"],[0.3333333333333333,\"#9c179e\"],[0.4444444444444444,\"#bd3786\"],[0.5555555555555556,\"#d8576b\"],[0.6666666666666666,\"#ed7953\"],[0.7777777777777778,\"#fb9f3a\"],[0.8888888888888888,\"#fdca26\"],[1.0,\"#f0f921\"]],\"type\":\"histogram2d\"}],\"histogram2dcontour\":[{\"colorbar\":{\"outlinewidth\":0,\"ticks\":\"\"},\"colorscale\":[[0.0,\"#0d0887\"],[0.1111111111111111,\"#46039f\"],[0.2222222222222222,\"#7201a8\"],[0.3333333333333333,\"#9c179e\"],[0.4444444444444444,\"#bd3786\"],[0.5555555555555556,\"#d8576b\"],[0.6666666666666666,\"#ed7953\"],[0.7777777777777778,\"#fb9f3a\"],[0.8888888888888888,\"#fdca26\"],[1.0,\"#f0f921\"]],\"type\":\"histogram2dcontour\"}],\"mesh3d\":[{\"colorbar\":{\"outlinewidth\":0,\"ticks\":\"\"},\"type\":\"mesh3d\"}],\"parcoords\":[{\"line\":{\"colorbar\":{\"outlinewidth\":0,\"ticks\":\"\"}},\"type\":\"parcoords\"}],\"pie\":[{\"automargin\":true,\"type\":\"pie\"}],\"scatter\":[{\"marker\":{\"colorbar\":{\"outlinewidth\":0,\"ticks\":\"\"}},\"type\":\"scatter\"}],\"scatter3d\":[{\"line\":{\"colorbar\":{\"outlinewidth\":0,\"ticks\":\"\"}},\"marker\":{\"colorbar\":{\"outlinewidth\":0,\"ticks\":\"\"}},\"type\":\"scatter3d\"}],\"scattercarpet\":[{\"marker\":{\"colorbar\":{\"outlinewidth\":0,\"ticks\":\"\"}},\"type\":\"scattercarpet\"}],\"scattergeo\":[{\"marker\":{\"colorbar\":{\"outlinewidth\":0,\"ticks\":\"\"}},\"type\":\"scattergeo\"}],\"scattergl\":[{\"marker\":{\"colorbar\":{\"outlinewidth\":0,\"ticks\":\"\"}},\"type\":\"scattergl\"}],\"scattermapbox\":[{\"marker\":{\"colorbar\":{\"outlinewidth\":0,\"ticks\":\"\"}},\"type\":\"scattermapbox\"}],\"scatterpolar\":[{\"marker\":{\"colorbar\":{\"outlinewidth\":0,\"ticks\":\"\"}},\"type\":\"scatterpolar\"}],\"scatterpolargl\":[{\"marker\":{\"colorbar\":{\"outlinewidth\":0,\"ticks\":\"\"}},\"type\":\"scatterpolargl\"}],\"scatterternary\":[{\"marker\":{\"colorbar\":{\"outlinewidth\":0,\"ticks\":\"\"}},\"type\":\"scatterternary\"}],\"surface\":[{\"colorbar\":{\"outlinewidth\":0,\"ticks\":\"\"},\"colorscale\":[[0.0,\"#0d0887\"],[0.1111111111111111,\"#46039f\"],[0.2222222222222222,\"#7201a8\"],[0.3333333333333333,\"#9c179e\"],[0.4444444444444444,\"#bd3786\"],[0.5555555555555556,\"#d8576b\"],[0.6666666666666666,\"#ed7953\"],[0.7777777777777778,\"#fb9f3a\"],[0.8888888888888888,\"#fdca26\"],[1.0,\"#f0f921\"]],\"type\":\"surface\"}],\"table\":[{\"cells\":{\"fill\":{\"color\":\"#EBF0F8\"},\"line\":{\"color\":\"white\"}},\"header\":{\"fill\":{\"color\":\"#C8D4E3\"},\"line\":{\"color\":\"white\"}},\"type\":\"table\"}]},\"layout\":{\"annotationdefaults\":{\"arrowcolor\":\"#2a3f5f\",\"arrowhead\":0,\"arrowwidth\":1},\"autotypenumbers\":\"strict\",\"coloraxis\":{\"colorbar\":{\"outlinewidth\":0,\"ticks\":\"\"}},\"colorscale\":{\"diverging\":[[0,\"#8e0152\"],[0.1,\"#c51b7d\"],[0.2,\"#de77ae\"],[0.3,\"#f1b6da\"],[0.4,\"#fde0ef\"],[0.5,\"#f7f7f7\"],[0.6,\"#e6f5d0\"],[0.7,\"#b8e186\"],[0.8,\"#7fbc41\"],[0.9,\"#4d9221\"],[1,\"#276419\"]],\"sequential\":[[0.0,\"#0d0887\"],[0.1111111111111111,\"#46039f\"],[0.2222222222222222,\"#7201a8\"],[0.3333333333333333,\"#9c179e\"],[0.4444444444444444,\"#bd3786\"],[0.5555555555555556,\"#d8576b\"],[0.6666666666666666,\"#ed7953\"],[0.7777777777777778,\"#fb9f3a\"],[0.8888888888888888,\"#fdca26\"],[1.0,\"#f0f921\"]],\"sequentialminus\":[[0.0,\"#0d0887\"],[0.1111111111111111,\"#46039f\"],[0.2222222222222222,\"#7201a8\"],[0.3333333333333333,\"#9c179e\"],[0.4444444444444444,\"#bd3786\"],[0.5555555555555556,\"#d8576b\"],[0.6666666666666666,\"#ed7953\"],[0.7777777777777778,\"#fb9f3a\"],[0.8888888888888888,\"#fdca26\"],[1.0,\"#f0f921\"]]},\"colorway\":[\"#636efa\",\"#EF553B\",\"#00cc96\",\"#ab63fa\",\"#FFA15A\",\"#19d3f3\",\"#FF6692\",\"#B6E880\",\"#FF97FF\",\"#FECB52\"],\"font\":{\"color\":\"#2a3f5f\"},\"geo\":{\"bgcolor\":\"white\",\"lakecolor\":\"white\",\"landcolor\":\"#E5ECF6\",\"showlakes\":true,\"showland\":true,\"subunitcolor\":\"white\"},\"hoverlabel\":{\"align\":\"left\"},\"hovermode\":\"closest\",\"mapbox\":{\"style\":\"light\"},\"paper_bgcolor\":\"white\",\"plot_bgcolor\":\"#E5ECF6\",\"polar\":{\"angularaxis\":{\"gridcolor\":\"white\",\"linecolor\":\"white\",\"ticks\":\"\"},\"bgcolor\":\"#E5ECF6\",\"radialaxis\":{\"gridcolor\":\"white\",\"linecolor\":\"white\",\"ticks\":\"\"}},\"scene\":{\"xaxis\":{\"backgroundcolor\":\"#E5ECF6\",\"gridcolor\":\"white\",\"gridwidth\":2,\"linecolor\":\"white\",\"showbackground\":true,\"ticks\":\"\",\"zerolinecolor\":\"white\"},\"yaxis\":{\"backgroundcolor\":\"#E5ECF6\",\"gridcolor\":\"white\",\"gridwidth\":2,\"linecolor\":\"white\",\"showbackground\":true,\"ticks\":\"\",\"zerolinecolor\":\"white\"},\"zaxis\":{\"backgroundcolor\":\"#E5ECF6\",\"gridcolor\":\"white\",\"gridwidth\":2,\"linecolor\":\"white\",\"showbackground\":true,\"ticks\":\"\",\"zerolinecolor\":\"white\"}},\"shapedefaults\":{\"line\":{\"color\":\"#2a3f5f\"}},\"ternary\":{\"aaxis\":{\"gridcolor\":\"white\",\"linecolor\":\"white\",\"ticks\":\"\"},\"baxis\":{\"gridcolor\":\"white\",\"linecolor\":\"white\",\"ticks\":\"\"},\"bgcolor\":\"#E5ECF6\",\"caxis\":{\"gridcolor\":\"white\",\"linecolor\":\"white\",\"ticks\":\"\"}},\"title\":{\"x\":0.05},\"xaxis\":{\"automargin\":true,\"gridcolor\":\"white\",\"linecolor\":\"white\",\"ticks\":\"\",\"title\":{\"standoff\":15},\"zerolinecolor\":\"white\",\"zerolinewidth\":2},\"yaxis\":{\"automargin\":true,\"gridcolor\":\"white\",\"linecolor\":\"white\",\"ticks\":\"\",\"title\":{\"standoff\":15},\"zerolinecolor\":\"white\",\"zerolinewidth\":2}}},\"xaxis\":{\"anchor\":\"y\",\"domain\":[0.0,1.0],\"title\":{\"text\":\"Connected On\"}},\"yaxis\":{\"anchor\":\"x\",\"domain\":[0.0,1.0],\"title\":{\"text\":\"Number of Connections\"}},\"legend\":{\"tracegroupgap\":0},\"title\":{\"text\":\"Connection Timeline\"}},                        {\"responsive\": true}                    ).then(function(){\n",
              "                            \n",
              "var gd = document.getElementById('3d4584ef-5b61-420f-88aa-0f0facdebdc2');\n",
              "var x = new MutationObserver(function (mutations, observer) {{\n",
              "        var display = window.getComputedStyle(gd).display;\n",
              "        if (!display || display === 'none') {{\n",
              "            console.log([gd, 'removed!']);\n",
              "            Plotly.purge(gd);\n",
              "            observer.disconnect();\n",
              "        }}\n",
              "}});\n",
              "\n",
              "// Listen for the removal of the full notebook cells\n",
              "var notebookContainer = gd.closest('#notebook-container');\n",
              "if (notebookContainer) {{\n",
              "    x.observe(notebookContainer, {childList: true});\n",
              "}}\n",
              "\n",
              "// Listen for the clearing of the current output cell\n",
              "var outputEl = gd.closest('.output');\n",
              "if (outputEl) {{\n",
              "    x.observe(outputEl, {childList: true});\n",
              "}}\n",
              "\n",
              "                        })                };                            </script>        </div>\n",
              "</body>\n",
              "</html>"
            ]
          },
          "metadata": {}
        }
      ]
    },
    {
      "cell_type": "markdown",
      "source": [
        "As we can see, there are spikes in my connection activities, there are some periods I had a lot of connections(e.g. on 13-May-2022) while there some days that my connections dropped (e.g on 26-sept-2021)."
      ],
      "metadata": {
        "id": "IQ9p5a7WtFee"
      }
    },
    {
      "cell_type": "markdown",
      "source": [
        "Companies: Where do my Connections work?"
      ],
      "metadata": {
        "id": "dH3RhQMdtmhb"
      }
    },
    {
      "cell_type": "code",
      "source": [
        "data['Company']"
      ],
      "metadata": {
        "colab": {
          "base_uri": "https://localhost:8080/"
        },
        "id": "tMvJZKxhqeIY",
        "outputId": "c8d9d378-bc83-441a-a4b4-f5413da2f343"
      },
      "execution_count": 9,
      "outputs": [
        {
          "output_type": "execute_result",
          "data": {
            "text/plain": [
              "398        Tanla Platforms Limited\n",
              "397                        Infosys\n",
              "307                Tiger Analytics\n",
              "306                Tiger Analytics\n",
              "305    Analogic Automation Pvt Ltd\n",
              "                  ...             \n",
              "108                       Conduent\n",
              "308                    Apollo 24|7\n",
              "309                       AJIO.com\n",
              "103                      Stackboot\n",
              "104                            Aon\n",
              "Name: Company, Length: 402, dtype: object"
            ]
          },
          "metadata": {},
          "execution_count": 9
        }
      ]
    },
    {
      "cell_type": "code",
      "source": [
        "group_company = data.groupby(by = 'Company').count().reset_index()"
      ],
      "metadata": {
        "id": "7nnQIQj1uBGy"
      },
      "execution_count": 10,
      "outputs": []
    },
    {
      "cell_type": "code",
      "source": [
        "group_company"
      ],
      "metadata": {
        "colab": {
          "base_uri": "https://localhost:8080/",
          "height": 424
        },
        "id": "5Byw0siTutJW",
        "outputId": "a45f1447-af8e-4590-aa82-d98633f835d3"
      },
      "execution_count": 11,
      "outputs": [
        {
          "output_type": "execute_result",
          "data": {
            "text/plain": [
              "                                  Company  First Name  Last Name  \\\n",
              "0                            DV Analytics           1          1   \n",
              "1                        1K Kirana Bazaar           1          1   \n",
              "2                               91mobiles           1          1   \n",
              "3                    A.P. Moller - Maersk           1          1   \n",
              "4                                AB InBev           1          1   \n",
              "..                                    ...         ...        ...   \n",
              "262                             mCaffeine           1          1   \n",
              "263                             smallcase           1          1   \n",
              "264                                     v           1          1   \n",
              "265  vCreaTek Consulting Services Pvt Ltd           1          1   \n",
              "266                              wavecard           1          1   \n",
              "\n",
              "     Email Address  Position  Connected On  \n",
              "0                0         1             1  \n",
              "1                0         1             1  \n",
              "2                0         1             1  \n",
              "3                0         1             1  \n",
              "4                0         1             1  \n",
              "..             ...       ...           ...  \n",
              "262              0         1             1  \n",
              "263              0         1             1  \n",
              "264              0         1             1  \n",
              "265              0         1             1  \n",
              "266              0         1             1  \n",
              "\n",
              "[267 rows x 6 columns]"
            ],
            "text/html": [
              "\n",
              "  <div id=\"df-cd6fcb8e-27df-409c-b118-c8ce46bf2526\">\n",
              "    <div class=\"colab-df-container\">\n",
              "      <div>\n",
              "<style scoped>\n",
              "    .dataframe tbody tr th:only-of-type {\n",
              "        vertical-align: middle;\n",
              "    }\n",
              "\n",
              "    .dataframe tbody tr th {\n",
              "        vertical-align: top;\n",
              "    }\n",
              "\n",
              "    .dataframe thead th {\n",
              "        text-align: right;\n",
              "    }\n",
              "</style>\n",
              "<table border=\"1\" class=\"dataframe\">\n",
              "  <thead>\n",
              "    <tr style=\"text-align: right;\">\n",
              "      <th></th>\n",
              "      <th>Company</th>\n",
              "      <th>First Name</th>\n",
              "      <th>Last Name</th>\n",
              "      <th>Email Address</th>\n",
              "      <th>Position</th>\n",
              "      <th>Connected On</th>\n",
              "    </tr>\n",
              "  </thead>\n",
              "  <tbody>\n",
              "    <tr>\n",
              "      <th>0</th>\n",
              "      <td>DV Analytics</td>\n",
              "      <td>1</td>\n",
              "      <td>1</td>\n",
              "      <td>0</td>\n",
              "      <td>1</td>\n",
              "      <td>1</td>\n",
              "    </tr>\n",
              "    <tr>\n",
              "      <th>1</th>\n",
              "      <td>1K Kirana Bazaar</td>\n",
              "      <td>1</td>\n",
              "      <td>1</td>\n",
              "      <td>0</td>\n",
              "      <td>1</td>\n",
              "      <td>1</td>\n",
              "    </tr>\n",
              "    <tr>\n",
              "      <th>2</th>\n",
              "      <td>91mobiles</td>\n",
              "      <td>1</td>\n",
              "      <td>1</td>\n",
              "      <td>0</td>\n",
              "      <td>1</td>\n",
              "      <td>1</td>\n",
              "    </tr>\n",
              "    <tr>\n",
              "      <th>3</th>\n",
              "      <td>A.P. Moller - Maersk</td>\n",
              "      <td>1</td>\n",
              "      <td>1</td>\n",
              "      <td>0</td>\n",
              "      <td>1</td>\n",
              "      <td>1</td>\n",
              "    </tr>\n",
              "    <tr>\n",
              "      <th>4</th>\n",
              "      <td>AB InBev</td>\n",
              "      <td>1</td>\n",
              "      <td>1</td>\n",
              "      <td>0</td>\n",
              "      <td>1</td>\n",
              "      <td>1</td>\n",
              "    </tr>\n",
              "    <tr>\n",
              "      <th>...</th>\n",
              "      <td>...</td>\n",
              "      <td>...</td>\n",
              "      <td>...</td>\n",
              "      <td>...</td>\n",
              "      <td>...</td>\n",
              "      <td>...</td>\n",
              "    </tr>\n",
              "    <tr>\n",
              "      <th>262</th>\n",
              "      <td>mCaffeine</td>\n",
              "      <td>1</td>\n",
              "      <td>1</td>\n",
              "      <td>0</td>\n",
              "      <td>1</td>\n",
              "      <td>1</td>\n",
              "    </tr>\n",
              "    <tr>\n",
              "      <th>263</th>\n",
              "      <td>smallcase</td>\n",
              "      <td>1</td>\n",
              "      <td>1</td>\n",
              "      <td>0</td>\n",
              "      <td>1</td>\n",
              "      <td>1</td>\n",
              "    </tr>\n",
              "    <tr>\n",
              "      <th>264</th>\n",
              "      <td>v</td>\n",
              "      <td>1</td>\n",
              "      <td>1</td>\n",
              "      <td>0</td>\n",
              "      <td>1</td>\n",
              "      <td>1</td>\n",
              "    </tr>\n",
              "    <tr>\n",
              "      <th>265</th>\n",
              "      <td>vCreaTek Consulting Services Pvt Ltd</td>\n",
              "      <td>1</td>\n",
              "      <td>1</td>\n",
              "      <td>0</td>\n",
              "      <td>1</td>\n",
              "      <td>1</td>\n",
              "    </tr>\n",
              "    <tr>\n",
              "      <th>266</th>\n",
              "      <td>wavecard</td>\n",
              "      <td>1</td>\n",
              "      <td>1</td>\n",
              "      <td>0</td>\n",
              "      <td>1</td>\n",
              "      <td>1</td>\n",
              "    </tr>\n",
              "  </tbody>\n",
              "</table>\n",
              "<p>267 rows × 6 columns</p>\n",
              "</div>\n",
              "      <button class=\"colab-df-convert\" onclick=\"convertToInteractive('df-cd6fcb8e-27df-409c-b118-c8ce46bf2526')\"\n",
              "              title=\"Convert this dataframe to an interactive table.\"\n",
              "              style=\"display:none;\">\n",
              "        \n",
              "  <svg xmlns=\"http://www.w3.org/2000/svg\" height=\"24px\"viewBox=\"0 0 24 24\"\n",
              "       width=\"24px\">\n",
              "    <path d=\"M0 0h24v24H0V0z\" fill=\"none\"/>\n",
              "    <path d=\"M18.56 5.44l.94 2.06.94-2.06 2.06-.94-2.06-.94-.94-2.06-.94 2.06-2.06.94zm-11 1L8.5 8.5l.94-2.06 2.06-.94-2.06-.94L8.5 2.5l-.94 2.06-2.06.94zm10 10l.94 2.06.94-2.06 2.06-.94-2.06-.94-.94-2.06-.94 2.06-2.06.94z\"/><path d=\"M17.41 7.96l-1.37-1.37c-.4-.4-.92-.59-1.43-.59-.52 0-1.04.2-1.43.59L10.3 9.45l-7.72 7.72c-.78.78-.78 2.05 0 2.83L4 21.41c.39.39.9.59 1.41.59.51 0 1.02-.2 1.41-.59l7.78-7.78 2.81-2.81c.8-.78.8-2.07 0-2.86zM5.41 20L4 18.59l7.72-7.72 1.47 1.35L5.41 20z\"/>\n",
              "  </svg>\n",
              "      </button>\n",
              "      \n",
              "  <style>\n",
              "    .colab-df-container {\n",
              "      display:flex;\n",
              "      flex-wrap:wrap;\n",
              "      gap: 12px;\n",
              "    }\n",
              "\n",
              "    .colab-df-convert {\n",
              "      background-color: #E8F0FE;\n",
              "      border: none;\n",
              "      border-radius: 50%;\n",
              "      cursor: pointer;\n",
              "      display: none;\n",
              "      fill: #1967D2;\n",
              "      height: 32px;\n",
              "      padding: 0 0 0 0;\n",
              "      width: 32px;\n",
              "    }\n",
              "\n",
              "    .colab-df-convert:hover {\n",
              "      background-color: #E2EBFA;\n",
              "      box-shadow: 0px 1px 2px rgba(60, 64, 67, 0.3), 0px 1px 3px 1px rgba(60, 64, 67, 0.15);\n",
              "      fill: #174EA6;\n",
              "    }\n",
              "\n",
              "    [theme=dark] .colab-df-convert {\n",
              "      background-color: #3B4455;\n",
              "      fill: #D2E3FC;\n",
              "    }\n",
              "\n",
              "    [theme=dark] .colab-df-convert:hover {\n",
              "      background-color: #434B5C;\n",
              "      box-shadow: 0px 1px 3px 1px rgba(0, 0, 0, 0.15);\n",
              "      filter: drop-shadow(0px 1px 2px rgba(0, 0, 0, 0.3));\n",
              "      fill: #FFFFFF;\n",
              "    }\n",
              "  </style>\n",
              "\n",
              "      <script>\n",
              "        const buttonEl =\n",
              "          document.querySelector('#df-cd6fcb8e-27df-409c-b118-c8ce46bf2526 button.colab-df-convert');\n",
              "        buttonEl.style.display =\n",
              "          google.colab.kernel.accessAllowed ? 'block' : 'none';\n",
              "\n",
              "        async function convertToInteractive(key) {\n",
              "          const element = document.querySelector('#df-cd6fcb8e-27df-409c-b118-c8ce46bf2526');\n",
              "          const dataTable =\n",
              "            await google.colab.kernel.invokeFunction('convertToInteractive',\n",
              "                                                     [key], {});\n",
              "          if (!dataTable) return;\n",
              "\n",
              "          const docLinkHtml = 'Like what you see? Visit the ' +\n",
              "            '<a target=\"_blank\" href=https://colab.research.google.com/notebooks/data_table.ipynb>data table notebook</a>'\n",
              "            + ' to learn more about interactive tables.';\n",
              "          element.innerHTML = '';\n",
              "          dataTable['output_type'] = 'display_data';\n",
              "          await google.colab.output.renderOutput(dataTable, element);\n",
              "          const docLink = document.createElement('div');\n",
              "          docLink.innerHTML = docLinkHtml;\n",
              "          element.appendChild(docLink);\n",
              "        }\n",
              "      </script>\n",
              "    </div>\n",
              "  </div>\n",
              "  "
            ]
          },
          "metadata": {},
          "execution_count": 11
        }
      ]
    },
    {
      "cell_type": "code",
      "source": [
        "group_company = group_company.sort_values(by = 'Connected On',ascending = False)"
      ],
      "metadata": {
        "id": "oyp2-QaFwQ_0"
      },
      "execution_count": 12,
      "outputs": []
    },
    {
      "cell_type": "code",
      "source": [
        "group_company"
      ],
      "metadata": {
        "colab": {
          "base_uri": "https://localhost:8080/",
          "height": 424
        },
        "id": "kjaB5ifqwfWX",
        "outputId": "c7bde259-1143-4760-86b3-55aa8295492d"
      },
      "execution_count": 13,
      "outputs": [
        {
          "output_type": "execute_result",
          "data": {
            "text/plain": [
              "                                         Company  First Name  Last Name  \\\n",
              "190                                     Prepleaf          21         21   \n",
              "160                                 Masai School          14         14   \n",
              "231                              Tiger Analytics           7          7   \n",
              "21                                        Amazon           6          6   \n",
              "81                                           EXL           6          6   \n",
              "..                                           ...         ...        ...   \n",
              "104  Gaia Smart Cities Solutions Private Limited           1          1   \n",
              "105                               GeakMinds, Inc           1          1   \n",
              "106                                      Goibibo           1          1   \n",
              "107      Golden Hippo Technology Private Limited           1          1   \n",
              "266                                     wavecard           1          1   \n",
              "\n",
              "     Email Address  Position  Connected On  \n",
              "190              1        21            21  \n",
              "160              0        14            14  \n",
              "231              0         7             7  \n",
              "21               0         6             6  \n",
              "81               0         6             6  \n",
              "..             ...       ...           ...  \n",
              "104              0         1             1  \n",
              "105              0         1             1  \n",
              "106              0         1             1  \n",
              "107              0         1             1  \n",
              "266              0         1             1  \n",
              "\n",
              "[267 rows x 6 columns]"
            ],
            "text/html": [
              "\n",
              "  <div id=\"df-df9bcd34-e2b4-49e1-b03d-8a3892c071ad\">\n",
              "    <div class=\"colab-df-container\">\n",
              "      <div>\n",
              "<style scoped>\n",
              "    .dataframe tbody tr th:only-of-type {\n",
              "        vertical-align: middle;\n",
              "    }\n",
              "\n",
              "    .dataframe tbody tr th {\n",
              "        vertical-align: top;\n",
              "    }\n",
              "\n",
              "    .dataframe thead th {\n",
              "        text-align: right;\n",
              "    }\n",
              "</style>\n",
              "<table border=\"1\" class=\"dataframe\">\n",
              "  <thead>\n",
              "    <tr style=\"text-align: right;\">\n",
              "      <th></th>\n",
              "      <th>Company</th>\n",
              "      <th>First Name</th>\n",
              "      <th>Last Name</th>\n",
              "      <th>Email Address</th>\n",
              "      <th>Position</th>\n",
              "      <th>Connected On</th>\n",
              "    </tr>\n",
              "  </thead>\n",
              "  <tbody>\n",
              "    <tr>\n",
              "      <th>190</th>\n",
              "      <td>Prepleaf</td>\n",
              "      <td>21</td>\n",
              "      <td>21</td>\n",
              "      <td>1</td>\n",
              "      <td>21</td>\n",
              "      <td>21</td>\n",
              "    </tr>\n",
              "    <tr>\n",
              "      <th>160</th>\n",
              "      <td>Masai School</td>\n",
              "      <td>14</td>\n",
              "      <td>14</td>\n",
              "      <td>0</td>\n",
              "      <td>14</td>\n",
              "      <td>14</td>\n",
              "    </tr>\n",
              "    <tr>\n",
              "      <th>231</th>\n",
              "      <td>Tiger Analytics</td>\n",
              "      <td>7</td>\n",
              "      <td>7</td>\n",
              "      <td>0</td>\n",
              "      <td>7</td>\n",
              "      <td>7</td>\n",
              "    </tr>\n",
              "    <tr>\n",
              "      <th>21</th>\n",
              "      <td>Amazon</td>\n",
              "      <td>6</td>\n",
              "      <td>6</td>\n",
              "      <td>0</td>\n",
              "      <td>6</td>\n",
              "      <td>6</td>\n",
              "    </tr>\n",
              "    <tr>\n",
              "      <th>81</th>\n",
              "      <td>EXL</td>\n",
              "      <td>6</td>\n",
              "      <td>6</td>\n",
              "      <td>0</td>\n",
              "      <td>6</td>\n",
              "      <td>6</td>\n",
              "    </tr>\n",
              "    <tr>\n",
              "      <th>...</th>\n",
              "      <td>...</td>\n",
              "      <td>...</td>\n",
              "      <td>...</td>\n",
              "      <td>...</td>\n",
              "      <td>...</td>\n",
              "      <td>...</td>\n",
              "    </tr>\n",
              "    <tr>\n",
              "      <th>104</th>\n",
              "      <td>Gaia Smart Cities Solutions Private Limited</td>\n",
              "      <td>1</td>\n",
              "      <td>1</td>\n",
              "      <td>0</td>\n",
              "      <td>1</td>\n",
              "      <td>1</td>\n",
              "    </tr>\n",
              "    <tr>\n",
              "      <th>105</th>\n",
              "      <td>GeakMinds, Inc</td>\n",
              "      <td>1</td>\n",
              "      <td>1</td>\n",
              "      <td>0</td>\n",
              "      <td>1</td>\n",
              "      <td>1</td>\n",
              "    </tr>\n",
              "    <tr>\n",
              "      <th>106</th>\n",
              "      <td>Goibibo</td>\n",
              "      <td>1</td>\n",
              "      <td>1</td>\n",
              "      <td>0</td>\n",
              "      <td>1</td>\n",
              "      <td>1</td>\n",
              "    </tr>\n",
              "    <tr>\n",
              "      <th>107</th>\n",
              "      <td>Golden Hippo Technology Private Limited</td>\n",
              "      <td>1</td>\n",
              "      <td>1</td>\n",
              "      <td>0</td>\n",
              "      <td>1</td>\n",
              "      <td>1</td>\n",
              "    </tr>\n",
              "    <tr>\n",
              "      <th>266</th>\n",
              "      <td>wavecard</td>\n",
              "      <td>1</td>\n",
              "      <td>1</td>\n",
              "      <td>0</td>\n",
              "      <td>1</td>\n",
              "      <td>1</td>\n",
              "    </tr>\n",
              "  </tbody>\n",
              "</table>\n",
              "<p>267 rows × 6 columns</p>\n",
              "</div>\n",
              "      <button class=\"colab-df-convert\" onclick=\"convertToInteractive('df-df9bcd34-e2b4-49e1-b03d-8a3892c071ad')\"\n",
              "              title=\"Convert this dataframe to an interactive table.\"\n",
              "              style=\"display:none;\">\n",
              "        \n",
              "  <svg xmlns=\"http://www.w3.org/2000/svg\" height=\"24px\"viewBox=\"0 0 24 24\"\n",
              "       width=\"24px\">\n",
              "    <path d=\"M0 0h24v24H0V0z\" fill=\"none\"/>\n",
              "    <path d=\"M18.56 5.44l.94 2.06.94-2.06 2.06-.94-2.06-.94-.94-2.06-.94 2.06-2.06.94zm-11 1L8.5 8.5l.94-2.06 2.06-.94-2.06-.94L8.5 2.5l-.94 2.06-2.06.94zm10 10l.94 2.06.94-2.06 2.06-.94-2.06-.94-.94-2.06-.94 2.06-2.06.94z\"/><path d=\"M17.41 7.96l-1.37-1.37c-.4-.4-.92-.59-1.43-.59-.52 0-1.04.2-1.43.59L10.3 9.45l-7.72 7.72c-.78.78-.78 2.05 0 2.83L4 21.41c.39.39.9.59 1.41.59.51 0 1.02-.2 1.41-.59l7.78-7.78 2.81-2.81c.8-.78.8-2.07 0-2.86zM5.41 20L4 18.59l7.72-7.72 1.47 1.35L5.41 20z\"/>\n",
              "  </svg>\n",
              "      </button>\n",
              "      \n",
              "  <style>\n",
              "    .colab-df-container {\n",
              "      display:flex;\n",
              "      flex-wrap:wrap;\n",
              "      gap: 12px;\n",
              "    }\n",
              "\n",
              "    .colab-df-convert {\n",
              "      background-color: #E8F0FE;\n",
              "      border: none;\n",
              "      border-radius: 50%;\n",
              "      cursor: pointer;\n",
              "      display: none;\n",
              "      fill: #1967D2;\n",
              "      height: 32px;\n",
              "      padding: 0 0 0 0;\n",
              "      width: 32px;\n",
              "    }\n",
              "\n",
              "    .colab-df-convert:hover {\n",
              "      background-color: #E2EBFA;\n",
              "      box-shadow: 0px 1px 2px rgba(60, 64, 67, 0.3), 0px 1px 3px 1px rgba(60, 64, 67, 0.15);\n",
              "      fill: #174EA6;\n",
              "    }\n",
              "\n",
              "    [theme=dark] .colab-df-convert {\n",
              "      background-color: #3B4455;\n",
              "      fill: #D2E3FC;\n",
              "    }\n",
              "\n",
              "    [theme=dark] .colab-df-convert:hover {\n",
              "      background-color: #434B5C;\n",
              "      box-shadow: 0px 1px 3px 1px rgba(0, 0, 0, 0.15);\n",
              "      filter: drop-shadow(0px 1px 2px rgba(0, 0, 0, 0.3));\n",
              "      fill: #FFFFFF;\n",
              "    }\n",
              "  </style>\n",
              "\n",
              "      <script>\n",
              "        const buttonEl =\n",
              "          document.querySelector('#df-df9bcd34-e2b4-49e1-b03d-8a3892c071ad button.colab-df-convert');\n",
              "        buttonEl.style.display =\n",
              "          google.colab.kernel.accessAllowed ? 'block' : 'none';\n",
              "\n",
              "        async function convertToInteractive(key) {\n",
              "          const element = document.querySelector('#df-df9bcd34-e2b4-49e1-b03d-8a3892c071ad');\n",
              "          const dataTable =\n",
              "            await google.colab.kernel.invokeFunction('convertToInteractive',\n",
              "                                                     [key], {});\n",
              "          if (!dataTable) return;\n",
              "\n",
              "          const docLinkHtml = 'Like what you see? Visit the ' +\n",
              "            '<a target=\"_blank\" href=https://colab.research.google.com/notebooks/data_table.ipynb>data table notebook</a>'\n",
              "            + ' to learn more about interactive tables.';\n",
              "          element.innerHTML = '';\n",
              "          dataTable['output_type'] = 'display_data';\n",
              "          await google.colab.output.renderOutput(dataTable, element);\n",
              "          const docLink = document.createElement('div');\n",
              "          docLink.innerHTML = docLinkHtml;\n",
              "          element.appendChild(docLink);\n",
              "        }\n",
              "      </script>\n",
              "    </div>\n",
              "  </div>\n",
              "  "
            ]
          },
          "metadata": {},
          "execution_count": 13
        }
      ]
    },
    {
      "cell_type": "markdown",
      "source": [
        "We can see that most of my connections are working at Prepleaf followed by Masai School, Tiger Analytics, Amazon and so on…"
      ],
      "metadata": {
        "id": "MUX-aOZIwuGA"
      }
    },
    {
      "cell_type": "markdown",
      "source": [
        "Visualisation"
      ],
      "metadata": {
        "id": "9wybePDS-Amg"
      }
    },
    {
      "cell_type": "code",
      "source": [
        "fig=px.bar(group_company[:100]\n",
        "       ,x = 'Company',\n",
        "       y = 'Connected On',\n",
        "       labels = {'Connected On':'Number of Connections'},\n",
        "       width = 1000,\n",
        "       height = 900,\n",
        "       title = 'Bar graph for companies that my Connections are working at.'\n",
        "       )\n"
      ],
      "metadata": {
        "id": "u8E7puNlw7w4"
      },
      "execution_count": 18,
      "outputs": []
    },
    {
      "cell_type": "code",
      "source": [
        "fig"
      ],
      "metadata": {
        "colab": {
          "base_uri": "https://localhost:8080/",
          "height": 937
        },
        "id": "04o-eaC_JuFw",
        "outputId": "bf535667-d57f-43a9-c522-a927734e2814"
      },
      "execution_count": 20,
      "outputs": [
        {
          "output_type": "display_data",
          "data": {
            "text/html": [
              "<html>\n",
              "<head><meta charset=\"utf-8\" /></head>\n",
              "<body>\n",
              "    <div>            <script src=\"https://cdnjs.cloudflare.com/ajax/libs/mathjax/2.7.5/MathJax.js?config=TeX-AMS-MML_SVG\"></script><script type=\"text/javascript\">if (window.MathJax) {MathJax.Hub.Config({SVG: {font: \"STIX-Web\"}});}</script>                <script type=\"text/javascript\">window.PlotlyConfig = {MathJaxConfig: 'local'};</script>\n",
              "        <script src=\"https://cdn.plot.ly/plotly-2.8.3.min.js\"></script>                <div id=\"3be5f40e-d282-4f01-b879-336cb8d5ff23\" class=\"plotly-graph-div\" style=\"height:900px; width:1000px;\"></div>            <script type=\"text/javascript\">                                    window.PLOTLYENV=window.PLOTLYENV || {};                                    if (document.getElementById(\"3be5f40e-d282-4f01-b879-336cb8d5ff23\")) {                    Plotly.newPlot(                        \"3be5f40e-d282-4f01-b879-336cb8d5ff23\",                        [{\"alignmentgroup\":\"True\",\"hovertemplate\":\"Company=%{x}<br>Number of Connections=%{y}<extra></extra>\",\"legendgroup\":\"\",\"marker\":{\"color\":\"#636efa\",\"pattern\":{\"shape\":\"\"}},\"name\":\"\",\"offsetgroup\":\"\",\"orientation\":\"v\",\"showlegend\":false,\"textposition\":\"auto\",\"x\":[\"Prepleaf\",\"Masai School\",\"Tiger Analytics\",\"Amazon\",\"EXL\",\"Infosys\",\"Enjay IT Solutions Ltd.\",\"EY\",\"NielsenIQ\",\"The Sparks Foundation\",\"Capgemini\",\"BosLeo\",\"BizKonnect\",\"ZS\",\"Deloitte\",\"CRG Solutions\",\"KRILL TECHNOLOGIES\",\"Tata Consultancy Services\",\"USEReady\",\"Data Gyan\",\"Self-employed\",\"Photoshooto\",\"Collegedunia\",\"Upwork\",\"Connect and Heal - CNH Care\",\"Seceon Inc.\",\"Prepleaf by Masai\",\"Jodo\",\"DemandCircle\",\"BYJU'S\",\"HCL Technologies\",\"EbixCash\",\"Analytics Vidhya\",\"Xerviz Wlobal\",\"Altimetrik\",\"Accenture AI\",\"Lineal\",\"iNeuron.ai\",\"JPMorgan Chase & Co.\",\"Rabin IT\",\"Premium life style & fashion India Pvt Ltd\",\"Phenom\",\"Pillai HOC College of Arts, Science and Commerce\",\"MILAREPA TECHNOLOGIES \",\"Polaris Inc.\",\"Luminous Infoways World\",\"LoveLocal\",\"KPMG Global Services (KGS)\",\"KiwiTech\",\"Krythium\",\"Login Technology\",\"Rakuten Insight\",\"Petrolink\",\"Prepseed\",\"Pro-Vigil Surveillance Services\",\"ProdEx Technologies\",\"Leviar Technologies\",\"Proffer Media Group - PMG B2B\",\"Pharma Targeting\",\"Naresh i Technologies\",\"Narayana Health\",\"Masai \",\"National Institute of Technology Kurukshetra\",\"Netleon Technologies Pvt. Ltd.\",\"Namdhari Agro Fresh Pvt Ltd\",\"Netmeds.com\",\"NOTUS\",\"Nextwave Multimedia\",\"Mood Indigo IIT Bombay\",\"Nielsen\",\"Remark Skill Education\",\"Moglix\",\"Numel Solutions\",\"PaperPicks\",\"Maple Software Pvt. Ltd.\",\"OM1, Inc.\",\"Machintel\",\"ONGC Petro additions Limited\",\"OYO\",\"MSP Concepts\",\"Ola\",\"Optum Global Solutions\",\"Otis Global Services Center Private Limited\",\"PRIMEZERVE INDIA PRIVATE LIMITED\",\"Pbrp academy Auraiya \",\" DV Analytics\",\"Renub Research\",\"Woxsen University\",\"Ultria\",\"UnboundB2B\",\"Uni Cards\",\"VIEH Group\",\"Ventiv Technology\",\"Viscadia\",\"VokerTech Inc\",\"WAVE ONLINE INFOWAY PRIVATE LIMITED\",\"Walmart Global Tech India\",\"WeAgile Software Solution Pvt Ltd\",\"WiseAnalytics.io\",\"Worldpanel by Kantar\"],\"xaxis\":\"x\",\"y\":[21,14,7,6,6,6,5,5,5,4,4,3,3,3,3,3,3,3,2,2,2,2,2,2,2,2,2,2,2,2,2,2,2,2,2,2,2,2,2,1,1,1,1,1,1,1,1,1,1,1,1,1,1,1,1,1,1,1,1,1,1,1,1,1,1,1,1,1,1,1,1,1,1,1,1,1,1,1,1,1,1,1,1,1,1,1,1,1,1,1,1,1,1,1,1,1,1,1,1,1],\"yaxis\":\"y\",\"type\":\"bar\"}],                        {\"template\":{\"data\":{\"bar\":[{\"error_x\":{\"color\":\"#2a3f5f\"},\"error_y\":{\"color\":\"#2a3f5f\"},\"marker\":{\"line\":{\"color\":\"#E5ECF6\",\"width\":0.5},\"pattern\":{\"fillmode\":\"overlay\",\"size\":10,\"solidity\":0.2}},\"type\":\"bar\"}],\"barpolar\":[{\"marker\":{\"line\":{\"color\":\"#E5ECF6\",\"width\":0.5},\"pattern\":{\"fillmode\":\"overlay\",\"size\":10,\"solidity\":0.2}},\"type\":\"barpolar\"}],\"carpet\":[{\"aaxis\":{\"endlinecolor\":\"#2a3f5f\",\"gridcolor\":\"white\",\"linecolor\":\"white\",\"minorgridcolor\":\"white\",\"startlinecolor\":\"#2a3f5f\"},\"baxis\":{\"endlinecolor\":\"#2a3f5f\",\"gridcolor\":\"white\",\"linecolor\":\"white\",\"minorgridcolor\":\"white\",\"startlinecolor\":\"#2a3f5f\"},\"type\":\"carpet\"}],\"choropleth\":[{\"colorbar\":{\"outlinewidth\":0,\"ticks\":\"\"},\"type\":\"choropleth\"}],\"contour\":[{\"colorbar\":{\"outlinewidth\":0,\"ticks\":\"\"},\"colorscale\":[[0.0,\"#0d0887\"],[0.1111111111111111,\"#46039f\"],[0.2222222222222222,\"#7201a8\"],[0.3333333333333333,\"#9c179e\"],[0.4444444444444444,\"#bd3786\"],[0.5555555555555556,\"#d8576b\"],[0.6666666666666666,\"#ed7953\"],[0.7777777777777778,\"#fb9f3a\"],[0.8888888888888888,\"#fdca26\"],[1.0,\"#f0f921\"]],\"type\":\"contour\"}],\"contourcarpet\":[{\"colorbar\":{\"outlinewidth\":0,\"ticks\":\"\"},\"type\":\"contourcarpet\"}],\"heatmap\":[{\"colorbar\":{\"outlinewidth\":0,\"ticks\":\"\"},\"colorscale\":[[0.0,\"#0d0887\"],[0.1111111111111111,\"#46039f\"],[0.2222222222222222,\"#7201a8\"],[0.3333333333333333,\"#9c179e\"],[0.4444444444444444,\"#bd3786\"],[0.5555555555555556,\"#d8576b\"],[0.6666666666666666,\"#ed7953\"],[0.7777777777777778,\"#fb9f3a\"],[0.8888888888888888,\"#fdca26\"],[1.0,\"#f0f921\"]],\"type\":\"heatmap\"}],\"heatmapgl\":[{\"colorbar\":{\"outlinewidth\":0,\"ticks\":\"\"},\"colorscale\":[[0.0,\"#0d0887\"],[0.1111111111111111,\"#46039f\"],[0.2222222222222222,\"#7201a8\"],[0.3333333333333333,\"#9c179e\"],[0.4444444444444444,\"#bd3786\"],[0.5555555555555556,\"#d8576b\"],[0.6666666666666666,\"#ed7953\"],[0.7777777777777778,\"#fb9f3a\"],[0.8888888888888888,\"#fdca26\"],[1.0,\"#f0f921\"]],\"type\":\"heatmapgl\"}],\"histogram\":[{\"marker\":{\"pattern\":{\"fillmode\":\"overlay\",\"size\":10,\"solidity\":0.2}},\"type\":\"histogram\"}],\"histogram2d\":[{\"colorbar\":{\"outlinewidth\":0,\"ticks\":\"\"},\"colorscale\":[[0.0,\"#0d0887\"],[0.1111111111111111,\"#46039f\"],[0.2222222222222222,\"#7201a8\"],[0.3333333333333333,\"#9c179e\"],[0.4444444444444444,\"#bd3786\"],[0.5555555555555556,\"#d8576b\"],[0.6666666666666666,\"#ed7953\"],[0.7777777777777778,\"#fb9f3a\"],[0.8888888888888888,\"#fdca26\"],[1.0,\"#f0f921\"]],\"type\":\"histogram2d\"}],\"histogram2dcontour\":[{\"colorbar\":{\"outlinewidth\":0,\"ticks\":\"\"},\"colorscale\":[[0.0,\"#0d0887\"],[0.1111111111111111,\"#46039f\"],[0.2222222222222222,\"#7201a8\"],[0.3333333333333333,\"#9c179e\"],[0.4444444444444444,\"#bd3786\"],[0.5555555555555556,\"#d8576b\"],[0.6666666666666666,\"#ed7953\"],[0.7777777777777778,\"#fb9f3a\"],[0.8888888888888888,\"#fdca26\"],[1.0,\"#f0f921\"]],\"type\":\"histogram2dcontour\"}],\"mesh3d\":[{\"colorbar\":{\"outlinewidth\":0,\"ticks\":\"\"},\"type\":\"mesh3d\"}],\"parcoords\":[{\"line\":{\"colorbar\":{\"outlinewidth\":0,\"ticks\":\"\"}},\"type\":\"parcoords\"}],\"pie\":[{\"automargin\":true,\"type\":\"pie\"}],\"scatter\":[{\"marker\":{\"colorbar\":{\"outlinewidth\":0,\"ticks\":\"\"}},\"type\":\"scatter\"}],\"scatter3d\":[{\"line\":{\"colorbar\":{\"outlinewidth\":0,\"ticks\":\"\"}},\"marker\":{\"colorbar\":{\"outlinewidth\":0,\"ticks\":\"\"}},\"type\":\"scatter3d\"}],\"scattercarpet\":[{\"marker\":{\"colorbar\":{\"outlinewidth\":0,\"ticks\":\"\"}},\"type\":\"scattercarpet\"}],\"scattergeo\":[{\"marker\":{\"colorbar\":{\"outlinewidth\":0,\"ticks\":\"\"}},\"type\":\"scattergeo\"}],\"scattergl\":[{\"marker\":{\"colorbar\":{\"outlinewidth\":0,\"ticks\":\"\"}},\"type\":\"scattergl\"}],\"scattermapbox\":[{\"marker\":{\"colorbar\":{\"outlinewidth\":0,\"ticks\":\"\"}},\"type\":\"scattermapbox\"}],\"scatterpolar\":[{\"marker\":{\"colorbar\":{\"outlinewidth\":0,\"ticks\":\"\"}},\"type\":\"scatterpolar\"}],\"scatterpolargl\":[{\"marker\":{\"colorbar\":{\"outlinewidth\":0,\"ticks\":\"\"}},\"type\":\"scatterpolargl\"}],\"scatterternary\":[{\"marker\":{\"colorbar\":{\"outlinewidth\":0,\"ticks\":\"\"}},\"type\":\"scatterternary\"}],\"surface\":[{\"colorbar\":{\"outlinewidth\":0,\"ticks\":\"\"},\"colorscale\":[[0.0,\"#0d0887\"],[0.1111111111111111,\"#46039f\"],[0.2222222222222222,\"#7201a8\"],[0.3333333333333333,\"#9c179e\"],[0.4444444444444444,\"#bd3786\"],[0.5555555555555556,\"#d8576b\"],[0.6666666666666666,\"#ed7953\"],[0.7777777777777778,\"#fb9f3a\"],[0.8888888888888888,\"#fdca26\"],[1.0,\"#f0f921\"]],\"type\":\"surface\"}],\"table\":[{\"cells\":{\"fill\":{\"color\":\"#EBF0F8\"},\"line\":{\"color\":\"white\"}},\"header\":{\"fill\":{\"color\":\"#C8D4E3\"},\"line\":{\"color\":\"white\"}},\"type\":\"table\"}]},\"layout\":{\"annotationdefaults\":{\"arrowcolor\":\"#2a3f5f\",\"arrowhead\":0,\"arrowwidth\":1},\"autotypenumbers\":\"strict\",\"coloraxis\":{\"colorbar\":{\"outlinewidth\":0,\"ticks\":\"\"}},\"colorscale\":{\"diverging\":[[0,\"#8e0152\"],[0.1,\"#c51b7d\"],[0.2,\"#de77ae\"],[0.3,\"#f1b6da\"],[0.4,\"#fde0ef\"],[0.5,\"#f7f7f7\"],[0.6,\"#e6f5d0\"],[0.7,\"#b8e186\"],[0.8,\"#7fbc41\"],[0.9,\"#4d9221\"],[1,\"#276419\"]],\"sequential\":[[0.0,\"#0d0887\"],[0.1111111111111111,\"#46039f\"],[0.2222222222222222,\"#7201a8\"],[0.3333333333333333,\"#9c179e\"],[0.4444444444444444,\"#bd3786\"],[0.5555555555555556,\"#d8576b\"],[0.6666666666666666,\"#ed7953\"],[0.7777777777777778,\"#fb9f3a\"],[0.8888888888888888,\"#fdca26\"],[1.0,\"#f0f921\"]],\"sequentialminus\":[[0.0,\"#0d0887\"],[0.1111111111111111,\"#46039f\"],[0.2222222222222222,\"#7201a8\"],[0.3333333333333333,\"#9c179e\"],[0.4444444444444444,\"#bd3786\"],[0.5555555555555556,\"#d8576b\"],[0.6666666666666666,\"#ed7953\"],[0.7777777777777778,\"#fb9f3a\"],[0.8888888888888888,\"#fdca26\"],[1.0,\"#f0f921\"]]},\"colorway\":[\"#636efa\",\"#EF553B\",\"#00cc96\",\"#ab63fa\",\"#FFA15A\",\"#19d3f3\",\"#FF6692\",\"#B6E880\",\"#FF97FF\",\"#FECB52\"],\"font\":{\"color\":\"#2a3f5f\"},\"geo\":{\"bgcolor\":\"white\",\"lakecolor\":\"white\",\"landcolor\":\"#E5ECF6\",\"showlakes\":true,\"showland\":true,\"subunitcolor\":\"white\"},\"hoverlabel\":{\"align\":\"left\"},\"hovermode\":\"closest\",\"mapbox\":{\"style\":\"light\"},\"paper_bgcolor\":\"white\",\"plot_bgcolor\":\"#E5ECF6\",\"polar\":{\"angularaxis\":{\"gridcolor\":\"white\",\"linecolor\":\"white\",\"ticks\":\"\"},\"bgcolor\":\"#E5ECF6\",\"radialaxis\":{\"gridcolor\":\"white\",\"linecolor\":\"white\",\"ticks\":\"\"}},\"scene\":{\"xaxis\":{\"backgroundcolor\":\"#E5ECF6\",\"gridcolor\":\"white\",\"gridwidth\":2,\"linecolor\":\"white\",\"showbackground\":true,\"ticks\":\"\",\"zerolinecolor\":\"white\"},\"yaxis\":{\"backgroundcolor\":\"#E5ECF6\",\"gridcolor\":\"white\",\"gridwidth\":2,\"linecolor\":\"white\",\"showbackground\":true,\"ticks\":\"\",\"zerolinecolor\":\"white\"},\"zaxis\":{\"backgroundcolor\":\"#E5ECF6\",\"gridcolor\":\"white\",\"gridwidth\":2,\"linecolor\":\"white\",\"showbackground\":true,\"ticks\":\"\",\"zerolinecolor\":\"white\"}},\"shapedefaults\":{\"line\":{\"color\":\"#2a3f5f\"}},\"ternary\":{\"aaxis\":{\"gridcolor\":\"white\",\"linecolor\":\"white\",\"ticks\":\"\"},\"baxis\":{\"gridcolor\":\"white\",\"linecolor\":\"white\",\"ticks\":\"\"},\"bgcolor\":\"#E5ECF6\",\"caxis\":{\"gridcolor\":\"white\",\"linecolor\":\"white\",\"ticks\":\"\"}},\"title\":{\"x\":0.05},\"xaxis\":{\"automargin\":true,\"gridcolor\":\"white\",\"linecolor\":\"white\",\"ticks\":\"\",\"title\":{\"standoff\":15},\"zerolinecolor\":\"white\",\"zerolinewidth\":2},\"yaxis\":{\"automargin\":true,\"gridcolor\":\"white\",\"linecolor\":\"white\",\"ticks\":\"\",\"title\":{\"standoff\":15},\"zerolinecolor\":\"white\",\"zerolinewidth\":2}}},\"xaxis\":{\"anchor\":\"y\",\"domain\":[0.0,1.0],\"title\":{\"text\":\"Company\"}},\"yaxis\":{\"anchor\":\"x\",\"domain\":[0.0,1.0],\"title\":{\"text\":\"Number of Connections\"}},\"legend\":{\"tracegroupgap\":0},\"title\":{\"text\":\"Bar graph for companies that my Connections are working at.\"},\"barmode\":\"relative\",\"height\":900,\"width\":1000},                        {\"responsive\": true}                    ).then(function(){\n",
              "                            \n",
              "var gd = document.getElementById('3be5f40e-d282-4f01-b879-336cb8d5ff23');\n",
              "var x = new MutationObserver(function (mutations, observer) {{\n",
              "        var display = window.getComputedStyle(gd).display;\n",
              "        if (!display || display === 'none') {{\n",
              "            console.log([gd, 'removed!']);\n",
              "            Plotly.purge(gd);\n",
              "            observer.disconnect();\n",
              "        }}\n",
              "}});\n",
              "\n",
              "// Listen for the removal of the full notebook cells\n",
              "var notebookContainer = gd.closest('#notebook-container');\n",
              "if (notebookContainer) {{\n",
              "    x.observe(notebookContainer, {childList: true});\n",
              "}}\n",
              "\n",
              "// Listen for the clearing of the current output cell\n",
              "var outputEl = gd.closest('.output');\n",
              "if (outputEl) {{\n",
              "    x.observe(outputEl, {childList: true});\n",
              "}}\n",
              "\n",
              "                        })                };                            </script>        </div>\n",
              "</body>\n",
              "</html>"
            ]
          },
          "metadata": {}
        }
      ]
    },
    {
      "cell_type": "markdown",
      "source": [
        "Let’s use Tree Plot in Plotly to have a better visualisation of our connections company analysis."
      ],
      "metadata": {
        "id": "jtxp_tBNKBuW"
      }
    },
    {
      "cell_type": "code",
      "source": [
        "fig=px.treemap(group_company[:200], path = ['Company','Position'],\n",
        "      \n",
        "       values = 'Connected On',\n",
        "       labels = {'Connected On':'Number of Connections'},\n",
        "       width = 1000,\n",
        "       height = 900,\n",
        "       title = 'Tree Map for companies that my Connections are working at.'\n",
        "       \n",
        "       \n",
        "       )"
      ],
      "metadata": {
        "id": "KlF89DURJ6V-"
      },
      "execution_count": 21,
      "outputs": []
    },
    {
      "cell_type": "code",
      "source": [
        "fig"
      ],
      "metadata": {
        "colab": {
          "base_uri": "https://localhost:8080/",
          "height": 937
        },
        "id": "qPVz8LEzKJcd",
        "outputId": "53831704-176f-42b9-8228-c61aab0a78f6"
      },
      "execution_count": 22,
      "outputs": [
        {
          "output_type": "display_data",
          "data": {
            "text/html": [
              "<html>\n",
              "<head><meta charset=\"utf-8\" /></head>\n",
              "<body>\n",
              "    <div>            <script src=\"https://cdnjs.cloudflare.com/ajax/libs/mathjax/2.7.5/MathJax.js?config=TeX-AMS-MML_SVG\"></script><script type=\"text/javascript\">if (window.MathJax) {MathJax.Hub.Config({SVG: {font: \"STIX-Web\"}});}</script>                <script type=\"text/javascript\">window.PlotlyConfig = {MathJaxConfig: 'local'};</script>\n",
              "        <script src=\"https://cdn.plot.ly/plotly-2.8.3.min.js\"></script>                <div id=\"e8d2d8dc-7464-427e-aabc-39309217d7ee\" class=\"plotly-graph-div\" style=\"height:900px; width:1000px;\"></div>            <script type=\"text/javascript\">                                    window.PLOTLYENV=window.PLOTLYENV || {};                                    if (document.getElementById(\"e8d2d8dc-7464-427e-aabc-39309217d7ee\")) {                    Plotly.newPlot(                        \"e8d2d8dc-7464-427e-aabc-39309217d7ee\",                        [{\"branchvalues\":\"total\",\"domain\":{\"x\":[0.0,1.0],\"y\":[0.0,1.0]},\"hovertemplate\":\"labels=%{label}<br>Number of Connections=%{value}<br>parent=%{parent}<br>id=%{id}<extra></extra>\",\"ids\":[\" DV Analytics/1\",\"91mobiles/1\",\"A.P. Moller - Maersk/1\",\"AB InBev/1\",\"ABIS Exports India Private Limited. IB Group/1\",\"ADROSONIC/1\",\"AI-Beehive/1\",\"AJIO.com/1\",\"AMSYS Innovative Solutions, LLC/1\",\"ANZ/1\",\"Accenture/1\",\"Advent Global/1\",\"Aer Lingus/1\",\"Affine/1\",\"Ai Variant/1\",\"AivaMartech/1\",\"AlmaBetter/1\",\"Amaracore/1\",\"Amazon Development Center/1\",\"Amazon ML Summer School /1\",\"Amazon Robotics/1\",\"American Express/1\",\"Analogic Automation Pvt Ltd/1\",\"BREIN/1\",\"BRILLICA SERVICES PVT. LTD/1\",\"Bigbites/1\",\"Binance/1\",\"BlogVault - WordPress BackUp & Security Redefined/1\",\"Brandoos med/1\",\"Briq/1\",\"Byldd/1\",\"CDW/1\",\"CNE Associates/1\",\"CVS Health/1\",\"CapRelo/1\",\"Capella Space/1\",\"Careervira/1\",\"CashBook App (YC W21)/1\",\"Catchpoint/1\",\"Celebal Technologies/1\",\"ChargePoint/1\",\"China Everbright Bank/1\",\"Citi/1\",\"City Montessori School/1\",\"Clarity/1\",\"Cloud Counselage Pvt. Ltd./1\",\"Cochin/1\",\"CodeClause/1\",\"Cognizant/1\",\"Computer Zone/1\",\"Conduent/1\",\"Cottonwood Financial/1\",\"Coursera/1\",\"DISYS/1\",\"Indxx/1\",\"Ipsos/1\",\"Jarvis Technology and Strategy Consulting/1\",\"KANTAR/1\",\"KPMG Global Services (KGS)/1\",\"KiwiTech/1\",\"Krythium/1\",\"Leviar Technologies/1\",\"Login Technology/1\",\"LoveLocal/1\",\"Luminous Infoways World/1\",\"MILAREPA TECHNOLOGIES /1\",\"MSP Concepts/1\",\"Machintel/1\",\"Maple Software Pvt. Ltd./1\",\"Masai /1\",\"Moglix/1\",\"Mood Indigo IIT Bombay/1\",\"NOTUS/1\",\"Namdhari Agro Fresh Pvt Ltd/1\",\"Narayana Health/1\",\"Naresh i Technologies/1\",\"National Institute of Technology Kurukshetra/1\",\"Netleon Technologies Pvt. Ltd./1\",\"Netmeds.com/1\",\"Nextwave Multimedia/1\",\"Nielsen/1\",\"Numel Solutions/1\",\"OM1, Inc./1\",\"ONGC Petro additions Limited/1\",\"OYO/1\",\"Ola/1\",\"Optum Global Solutions/1\",\"Otis Global Services Center Private Limited/1\",\"PRIMEZERVE INDIA PRIVATE LIMITED/1\",\"PaperPicks/1\",\"Pbrp academy Auraiya /1\",\"Petrolink/1\",\"Pharma Targeting/1\",\"Phenom/1\",\"Pillai HOC College of Arts, Science and Commerce/1\",\"Polaris Inc./1\",\"Premium life style & fashion India Pvt Ltd/1\",\"Prepseed/1\",\"Pro-Vigil Surveillance Services/1\",\"ProdEx Technologies/1\",\"Proffer Media Group - PMG B2B/1\",\"Rabin IT/1\",\"Rakuten Insight/1\",\"Remark Skill Education/1\",\"Renub Research/1\",\"Rotana Hotel Management Corporation PJSC/1\",\"SHR, Sceptre Hospitality Resources/1\",\"SISA/1\",\"SPRINGBOARD/1\",\"SSM InfoTech Solutions Pvt. Ltd./1\",\"Saarthi.ai/1\",\"Saveo.in/1\",\"Scalability Engineers/1\",\"School Of Public Health - AIIMS, Rishikesh/1\",\"Self-Employed/1\",\"Senkron G\\u00fcvenlik ve \\u0130leti\\u015fim Sistemleri A.\\u015e./1\",\"Sigmaflux/1\",\"Stackboot/1\",\"Straive/1\",\"Subros Limited/1\",\"Sunstone/1\",\"Suvadra Consultant /1\",\"Swan Softweb Solutions/1\",\"Sysbig Technologies India Pvt ltd/1\",\"Taazaa Inc/1\",\"Talent Basket/1\",\"Tanla Platforms Limited/1\",\"Tech Mahindra/1\",\"Teleperformance/1\",\"The University of Texas at Arlington/1\",\"Thinkitive Technologies Pvt. Ltd./1\",\"Thriive.in/1\",\"Trivium Education/1\",\"Turbojet Engines Pvt Ltd/1\",\"UBS/1\",\"Ultria/1\",\"UnboundB2B/1\",\"Uni Cards/1\",\"VIEH Group/1\",\"Ventiv Technology/1\",\"Viscadia/1\",\"VokerTech Inc/1\",\"WAVE ONLINE INFOWAY PRIVATE LIMITED/1\",\"Walmart Global Tech India/1\",\"WeAgile Software Solution Pvt Ltd/1\",\"WiseAnalytics.io/1\",\"Worldpanel by Kantar/1\",\"Woxsen University/1\",\"WyzMindz Solutions Pvt. Ltd./1\",\"Xyz/1\",\"YouKraft /1\",\"Yulu/1\",\"Zoho/1\",\"bp/1\",\"iCert Global/1\",\"izmo ltd/1\",\"m-orpheus/1\",\"mCaffeine/1\",\"smallcase/1\",\"v/1\",\"vCreaTek Consulting Services Pvt Ltd/1\",\"Accenture AI/2\",\"Altimetrik/2\",\"Analytics Vidhya/2\",\"BYJU'S/2\",\"Collegedunia/2\",\"Connect and Heal - CNH Care/2\",\"Data Gyan/2\",\"DemandCircle/2\",\"EbixCash/2\",\"HCL Technologies/2\",\"JPMorgan Chase & Co./2\",\"Jodo/2\",\"Lineal/2\",\"Photoshooto/2\",\"Prepleaf by Masai/2\",\"Seceon Inc./2\",\"Self-employed/2\",\"USEReady/2\",\"Upwork/2\",\"Xerviz Wlobal/2\",\"iNeuron.ai/2\",\"BizKonnect/3\",\"BosLeo/3\",\"CRG Solutions/3\",\"Deloitte/3\",\"KRILL TECHNOLOGIES/3\",\"Tata Consultancy Services/3\",\"ZS/3\",\"Capgemini/4\",\"The Sparks Foundation/4\",\"EY/5\",\"Enjay IT Solutions Ltd./5\",\"NielsenIQ/5\",\"Amazon/6\",\"EXL/6\",\"Infosys/6\",\"Tiger Analytics/7\",\"Masai School/14\",\"Prepleaf/21\",\" DV Analytics\",\"91mobiles\",\"A.P. Moller - Maersk\",\"AB InBev\",\"ABIS Exports India Private Limited. IB Group\",\"ADROSONIC\",\"AI-Beehive\",\"AJIO.com\",\"AMSYS Innovative Solutions, LLC\",\"ANZ\",\"Accenture\",\"Accenture AI\",\"Advent Global\",\"Aer Lingus\",\"Affine\",\"Ai Variant\",\"AivaMartech\",\"AlmaBetter\",\"Altimetrik\",\"Amaracore\",\"Amazon\",\"Amazon Development Center\",\"Amazon ML Summer School \",\"Amazon Robotics\",\"American Express\",\"Analogic Automation Pvt Ltd\",\"Analytics Vidhya\",\"BREIN\",\"BRILLICA SERVICES PVT. LTD\",\"BYJU'S\",\"Bigbites\",\"Binance\",\"BizKonnect\",\"BlogVault - WordPress BackUp & Security Redefined\",\"BosLeo\",\"Brandoos med\",\"Briq\",\"Byldd\",\"CDW\",\"CNE Associates\",\"CRG Solutions\",\"CVS Health\",\"CapRelo\",\"Capella Space\",\"Capgemini\",\"Careervira\",\"CashBook App (YC W21)\",\"Catchpoint\",\"Celebal Technologies\",\"ChargePoint\",\"China Everbright Bank\",\"Citi\",\"City Montessori School\",\"Clarity\",\"Cloud Counselage Pvt. Ltd.\",\"Cochin\",\"CodeClause\",\"Cognizant\",\"Collegedunia\",\"Computer Zone\",\"Conduent\",\"Connect and Heal - CNH Care\",\"Cottonwood Financial\",\"Coursera\",\"DISYS\",\"Data Gyan\",\"Deloitte\",\"DemandCircle\",\"EXL\",\"EY\",\"EbixCash\",\"Enjay IT Solutions Ltd.\",\"HCL Technologies\",\"Indxx\",\"Infosys\",\"Ipsos\",\"JPMorgan Chase & Co.\",\"Jarvis Technology and Strategy Consulting\",\"Jodo\",\"KANTAR\",\"KPMG Global Services (KGS)\",\"KRILL TECHNOLOGIES\",\"KiwiTech\",\"Krythium\",\"Leviar Technologies\",\"Lineal\",\"Login Technology\",\"LoveLocal\",\"Luminous Infoways World\",\"MILAREPA TECHNOLOGIES \",\"MSP Concepts\",\"Machintel\",\"Maple Software Pvt. Ltd.\",\"Masai \",\"Masai School\",\"Moglix\",\"Mood Indigo IIT Bombay\",\"NOTUS\",\"Namdhari Agro Fresh Pvt Ltd\",\"Narayana Health\",\"Naresh i Technologies\",\"National Institute of Technology Kurukshetra\",\"Netleon Technologies Pvt. Ltd.\",\"Netmeds.com\",\"Nextwave Multimedia\",\"Nielsen\",\"NielsenIQ\",\"Numel Solutions\",\"OM1, Inc.\",\"ONGC Petro additions Limited\",\"OYO\",\"Ola\",\"Optum Global Solutions\",\"Otis Global Services Center Private Limited\",\"PRIMEZERVE INDIA PRIVATE LIMITED\",\"PaperPicks\",\"Pbrp academy Auraiya \",\"Petrolink\",\"Pharma Targeting\",\"Phenom\",\"Photoshooto\",\"Pillai HOC College of Arts, Science and Commerce\",\"Polaris Inc.\",\"Premium life style & fashion India Pvt Ltd\",\"Prepleaf\",\"Prepleaf by Masai\",\"Prepseed\",\"Pro-Vigil Surveillance Services\",\"ProdEx Technologies\",\"Proffer Media Group - PMG B2B\",\"Rabin IT\",\"Rakuten Insight\",\"Remark Skill Education\",\"Renub Research\",\"Rotana Hotel Management Corporation PJSC\",\"SHR, Sceptre Hospitality Resources\",\"SISA\",\"SPRINGBOARD\",\"SSM InfoTech Solutions Pvt. Ltd.\",\"Saarthi.ai\",\"Saveo.in\",\"Scalability Engineers\",\"School Of Public Health - AIIMS, Rishikesh\",\"Seceon Inc.\",\"Self-Employed\",\"Self-employed\",\"Senkron G\\u00fcvenlik ve \\u0130leti\\u015fim Sistemleri A.\\u015e.\",\"Sigmaflux\",\"Stackboot\",\"Straive\",\"Subros Limited\",\"Sunstone\",\"Suvadra Consultant \",\"Swan Softweb Solutions\",\"Sysbig Technologies India Pvt ltd\",\"Taazaa Inc\",\"Talent Basket\",\"Tanla Platforms Limited\",\"Tata Consultancy Services\",\"Tech Mahindra\",\"Teleperformance\",\"The Sparks Foundation\",\"The University of Texas at Arlington\",\"Thinkitive Technologies Pvt. Ltd.\",\"Thriive.in\",\"Tiger Analytics\",\"Trivium Education\",\"Turbojet Engines Pvt Ltd\",\"UBS\",\"USEReady\",\"Ultria\",\"UnboundB2B\",\"Uni Cards\",\"Upwork\",\"VIEH Group\",\"Ventiv Technology\",\"Viscadia\",\"VokerTech Inc\",\"WAVE ONLINE INFOWAY PRIVATE LIMITED\",\"Walmart Global Tech India\",\"WeAgile Software Solution Pvt Ltd\",\"WiseAnalytics.io\",\"Worldpanel by Kantar\",\"Woxsen University\",\"WyzMindz Solutions Pvt. Ltd.\",\"Xerviz Wlobal\",\"Xyz\",\"YouKraft \",\"Yulu\",\"ZS\",\"Zoho\",\"bp\",\"iCert Global\",\"iNeuron.ai\",\"izmo ltd\",\"m-orpheus\",\"mCaffeine\",\"smallcase\",\"v\",\"vCreaTek Consulting Services Pvt Ltd\"],\"labels\":[\"1\",\"1\",\"1\",\"1\",\"1\",\"1\",\"1\",\"1\",\"1\",\"1\",\"1\",\"1\",\"1\",\"1\",\"1\",\"1\",\"1\",\"1\",\"1\",\"1\",\"1\",\"1\",\"1\",\"1\",\"1\",\"1\",\"1\",\"1\",\"1\",\"1\",\"1\",\"1\",\"1\",\"1\",\"1\",\"1\",\"1\",\"1\",\"1\",\"1\",\"1\",\"1\",\"1\",\"1\",\"1\",\"1\",\"1\",\"1\",\"1\",\"1\",\"1\",\"1\",\"1\",\"1\",\"1\",\"1\",\"1\",\"1\",\"1\",\"1\",\"1\",\"1\",\"1\",\"1\",\"1\",\"1\",\"1\",\"1\",\"1\",\"1\",\"1\",\"1\",\"1\",\"1\",\"1\",\"1\",\"1\",\"1\",\"1\",\"1\",\"1\",\"1\",\"1\",\"1\",\"1\",\"1\",\"1\",\"1\",\"1\",\"1\",\"1\",\"1\",\"1\",\"1\",\"1\",\"1\",\"1\",\"1\",\"1\",\"1\",\"1\",\"1\",\"1\",\"1\",\"1\",\"1\",\"1\",\"1\",\"1\",\"1\",\"1\",\"1\",\"1\",\"1\",\"1\",\"1\",\"1\",\"1\",\"1\",\"1\",\"1\",\"1\",\"1\",\"1\",\"1\",\"1\",\"1\",\"1\",\"1\",\"1\",\"1\",\"1\",\"1\",\"1\",\"1\",\"1\",\"1\",\"1\",\"1\",\"1\",\"1\",\"1\",\"1\",\"1\",\"1\",\"1\",\"1\",\"1\",\"1\",\"1\",\"1\",\"1\",\"1\",\"1\",\"1\",\"1\",\"1\",\"1\",\"1\",\"1\",\"1\",\"2\",\"2\",\"2\",\"2\",\"2\",\"2\",\"2\",\"2\",\"2\",\"2\",\"2\",\"2\",\"2\",\"2\",\"2\",\"2\",\"2\",\"2\",\"2\",\"2\",\"2\",\"3\",\"3\",\"3\",\"3\",\"3\",\"3\",\"3\",\"4\",\"4\",\"5\",\"5\",\"5\",\"6\",\"6\",\"6\",\"7\",\"14\",\"21\",\" DV Analytics\",\"91mobiles\",\"A.P. Moller - Maersk\",\"AB InBev\",\"ABIS Exports India Private Limited. IB Group\",\"ADROSONIC\",\"AI-Beehive\",\"AJIO.com\",\"AMSYS Innovative Solutions, LLC\",\"ANZ\",\"Accenture\",\"Accenture AI\",\"Advent Global\",\"Aer Lingus\",\"Affine\",\"Ai Variant\",\"AivaMartech\",\"AlmaBetter\",\"Altimetrik\",\"Amaracore\",\"Amazon\",\"Amazon Development Center\",\"Amazon ML Summer School \",\"Amazon Robotics\",\"American Express\",\"Analogic Automation Pvt Ltd\",\"Analytics Vidhya\",\"BREIN\",\"BRILLICA SERVICES PVT. LTD\",\"BYJU'S\",\"Bigbites\",\"Binance\",\"BizKonnect\",\"BlogVault - WordPress BackUp & Security Redefined\",\"BosLeo\",\"Brandoos med\",\"Briq\",\"Byldd\",\"CDW\",\"CNE Associates\",\"CRG Solutions\",\"CVS Health\",\"CapRelo\",\"Capella Space\",\"Capgemini\",\"Careervira\",\"CashBook App (YC W21)\",\"Catchpoint\",\"Celebal Technologies\",\"ChargePoint\",\"China Everbright Bank\",\"Citi\",\"City Montessori School\",\"Clarity\",\"Cloud Counselage Pvt. Ltd.\",\"Cochin\",\"CodeClause\",\"Cognizant\",\"Collegedunia\",\"Computer Zone\",\"Conduent\",\"Connect and Heal - CNH Care\",\"Cottonwood Financial\",\"Coursera\",\"DISYS\",\"Data Gyan\",\"Deloitte\",\"DemandCircle\",\"EXL\",\"EY\",\"EbixCash\",\"Enjay IT Solutions Ltd.\",\"HCL Technologies\",\"Indxx\",\"Infosys\",\"Ipsos\",\"JPMorgan Chase & Co.\",\"Jarvis Technology and Strategy Consulting\",\"Jodo\",\"KANTAR\",\"KPMG Global Services (KGS)\",\"KRILL TECHNOLOGIES\",\"KiwiTech\",\"Krythium\",\"Leviar Technologies\",\"Lineal\",\"Login Technology\",\"LoveLocal\",\"Luminous Infoways World\",\"MILAREPA TECHNOLOGIES \",\"MSP Concepts\",\"Machintel\",\"Maple Software Pvt. Ltd.\",\"Masai \",\"Masai School\",\"Moglix\",\"Mood Indigo IIT Bombay\",\"NOTUS\",\"Namdhari Agro Fresh Pvt Ltd\",\"Narayana Health\",\"Naresh i Technologies\",\"National Institute of Technology Kurukshetra\",\"Netleon Technologies Pvt. Ltd.\",\"Netmeds.com\",\"Nextwave Multimedia\",\"Nielsen\",\"NielsenIQ\",\"Numel Solutions\",\"OM1, Inc.\",\"ONGC Petro additions Limited\",\"OYO\",\"Ola\",\"Optum Global Solutions\",\"Otis Global Services Center Private Limited\",\"PRIMEZERVE INDIA PRIVATE LIMITED\",\"PaperPicks\",\"Pbrp academy Auraiya \",\"Petrolink\",\"Pharma Targeting\",\"Phenom\",\"Photoshooto\",\"Pillai HOC College of Arts, Science and Commerce\",\"Polaris Inc.\",\"Premium life style & fashion India Pvt Ltd\",\"Prepleaf\",\"Prepleaf by Masai\",\"Prepseed\",\"Pro-Vigil Surveillance Services\",\"ProdEx Technologies\",\"Proffer Media Group - PMG B2B\",\"Rabin IT\",\"Rakuten Insight\",\"Remark Skill Education\",\"Renub Research\",\"Rotana Hotel Management Corporation PJSC\",\"SHR, Sceptre Hospitality Resources\",\"SISA\",\"SPRINGBOARD\",\"SSM InfoTech Solutions Pvt. Ltd.\",\"Saarthi.ai\",\"Saveo.in\",\"Scalability Engineers\",\"School Of Public Health - AIIMS, Rishikesh\",\"Seceon Inc.\",\"Self-Employed\",\"Self-employed\",\"Senkron G\\u00fcvenlik ve \\u0130leti\\u015fim Sistemleri A.\\u015e.\",\"Sigmaflux\",\"Stackboot\",\"Straive\",\"Subros Limited\",\"Sunstone\",\"Suvadra Consultant \",\"Swan Softweb Solutions\",\"Sysbig Technologies India Pvt ltd\",\"Taazaa Inc\",\"Talent Basket\",\"Tanla Platforms Limited\",\"Tata Consultancy Services\",\"Tech Mahindra\",\"Teleperformance\",\"The Sparks Foundation\",\"The University of Texas at Arlington\",\"Thinkitive Technologies Pvt. Ltd.\",\"Thriive.in\",\"Tiger Analytics\",\"Trivium Education\",\"Turbojet Engines Pvt Ltd\",\"UBS\",\"USEReady\",\"Ultria\",\"UnboundB2B\",\"Uni Cards\",\"Upwork\",\"VIEH Group\",\"Ventiv Technology\",\"Viscadia\",\"VokerTech Inc\",\"WAVE ONLINE INFOWAY PRIVATE LIMITED\",\"Walmart Global Tech India\",\"WeAgile Software Solution Pvt Ltd\",\"WiseAnalytics.io\",\"Worldpanel by Kantar\",\"Woxsen University\",\"WyzMindz Solutions Pvt. Ltd.\",\"Xerviz Wlobal\",\"Xyz\",\"YouKraft \",\"Yulu\",\"ZS\",\"Zoho\",\"bp\",\"iCert Global\",\"iNeuron.ai\",\"izmo ltd\",\"m-orpheus\",\"mCaffeine\",\"smallcase\",\"v\",\"vCreaTek Consulting Services Pvt Ltd\"],\"name\":\"\",\"parents\":[\" DV Analytics\",\"91mobiles\",\"A.P. Moller - Maersk\",\"AB InBev\",\"ABIS Exports India Private Limited. IB Group\",\"ADROSONIC\",\"AI-Beehive\",\"AJIO.com\",\"AMSYS Innovative Solutions, LLC\",\"ANZ\",\"Accenture\",\"Advent Global\",\"Aer Lingus\",\"Affine\",\"Ai Variant\",\"AivaMartech\",\"AlmaBetter\",\"Amaracore\",\"Amazon Development Center\",\"Amazon ML Summer School \",\"Amazon Robotics\",\"American Express\",\"Analogic Automation Pvt Ltd\",\"BREIN\",\"BRILLICA SERVICES PVT. LTD\",\"Bigbites\",\"Binance\",\"BlogVault - WordPress BackUp & Security Redefined\",\"Brandoos med\",\"Briq\",\"Byldd\",\"CDW\",\"CNE Associates\",\"CVS Health\",\"CapRelo\",\"Capella Space\",\"Careervira\",\"CashBook App (YC W21)\",\"Catchpoint\",\"Celebal Technologies\",\"ChargePoint\",\"China Everbright Bank\",\"Citi\",\"City Montessori School\",\"Clarity\",\"Cloud Counselage Pvt. Ltd.\",\"Cochin\",\"CodeClause\",\"Cognizant\",\"Computer Zone\",\"Conduent\",\"Cottonwood Financial\",\"Coursera\",\"DISYS\",\"Indxx\",\"Ipsos\",\"Jarvis Technology and Strategy Consulting\",\"KANTAR\",\"KPMG Global Services (KGS)\",\"KiwiTech\",\"Krythium\",\"Leviar Technologies\",\"Login Technology\",\"LoveLocal\",\"Luminous Infoways World\",\"MILAREPA TECHNOLOGIES \",\"MSP Concepts\",\"Machintel\",\"Maple Software Pvt. Ltd.\",\"Masai \",\"Moglix\",\"Mood Indigo IIT Bombay\",\"NOTUS\",\"Namdhari Agro Fresh Pvt Ltd\",\"Narayana Health\",\"Naresh i Technologies\",\"National Institute of Technology Kurukshetra\",\"Netleon Technologies Pvt. Ltd.\",\"Netmeds.com\",\"Nextwave Multimedia\",\"Nielsen\",\"Numel Solutions\",\"OM1, Inc.\",\"ONGC Petro additions Limited\",\"OYO\",\"Ola\",\"Optum Global Solutions\",\"Otis Global Services Center Private Limited\",\"PRIMEZERVE INDIA PRIVATE LIMITED\",\"PaperPicks\",\"Pbrp academy Auraiya \",\"Petrolink\",\"Pharma Targeting\",\"Phenom\",\"Pillai HOC College of Arts, Science and Commerce\",\"Polaris Inc.\",\"Premium life style & fashion India Pvt Ltd\",\"Prepseed\",\"Pro-Vigil Surveillance Services\",\"ProdEx Technologies\",\"Proffer Media Group - PMG B2B\",\"Rabin IT\",\"Rakuten Insight\",\"Remark Skill Education\",\"Renub Research\",\"Rotana Hotel Management Corporation PJSC\",\"SHR, Sceptre Hospitality Resources\",\"SISA\",\"SPRINGBOARD\",\"SSM InfoTech Solutions Pvt. Ltd.\",\"Saarthi.ai\",\"Saveo.in\",\"Scalability Engineers\",\"School Of Public Health - AIIMS, Rishikesh\",\"Self-Employed\",\"Senkron G\\u00fcvenlik ve \\u0130leti\\u015fim Sistemleri A.\\u015e.\",\"Sigmaflux\",\"Stackboot\",\"Straive\",\"Subros Limited\",\"Sunstone\",\"Suvadra Consultant \",\"Swan Softweb Solutions\",\"Sysbig Technologies India Pvt ltd\",\"Taazaa Inc\",\"Talent Basket\",\"Tanla Platforms Limited\",\"Tech Mahindra\",\"Teleperformance\",\"The University of Texas at Arlington\",\"Thinkitive Technologies Pvt. Ltd.\",\"Thriive.in\",\"Trivium Education\",\"Turbojet Engines Pvt Ltd\",\"UBS\",\"Ultria\",\"UnboundB2B\",\"Uni Cards\",\"VIEH Group\",\"Ventiv Technology\",\"Viscadia\",\"VokerTech Inc\",\"WAVE ONLINE INFOWAY PRIVATE LIMITED\",\"Walmart Global Tech India\",\"WeAgile Software Solution Pvt Ltd\",\"WiseAnalytics.io\",\"Worldpanel by Kantar\",\"Woxsen University\",\"WyzMindz Solutions Pvt. Ltd.\",\"Xyz\",\"YouKraft \",\"Yulu\",\"Zoho\",\"bp\",\"iCert Global\",\"izmo ltd\",\"m-orpheus\",\"mCaffeine\",\"smallcase\",\"v\",\"vCreaTek Consulting Services Pvt Ltd\",\"Accenture AI\",\"Altimetrik\",\"Analytics Vidhya\",\"BYJU'S\",\"Collegedunia\",\"Connect and Heal - CNH Care\",\"Data Gyan\",\"DemandCircle\",\"EbixCash\",\"HCL Technologies\",\"JPMorgan Chase & Co.\",\"Jodo\",\"Lineal\",\"Photoshooto\",\"Prepleaf by Masai\",\"Seceon Inc.\",\"Self-employed\",\"USEReady\",\"Upwork\",\"Xerviz Wlobal\",\"iNeuron.ai\",\"BizKonnect\",\"BosLeo\",\"CRG Solutions\",\"Deloitte\",\"KRILL TECHNOLOGIES\",\"Tata Consultancy Services\",\"ZS\",\"Capgemini\",\"The Sparks Foundation\",\"EY\",\"Enjay IT Solutions Ltd.\",\"NielsenIQ\",\"Amazon\",\"EXL\",\"Infosys\",\"Tiger Analytics\",\"Masai School\",\"Prepleaf\",\"\",\"\",\"\",\"\",\"\",\"\",\"\",\"\",\"\",\"\",\"\",\"\",\"\",\"\",\"\",\"\",\"\",\"\",\"\",\"\",\"\",\"\",\"\",\"\",\"\",\"\",\"\",\"\",\"\",\"\",\"\",\"\",\"\",\"\",\"\",\"\",\"\",\"\",\"\",\"\",\"\",\"\",\"\",\"\",\"\",\"\",\"\",\"\",\"\",\"\",\"\",\"\",\"\",\"\",\"\",\"\",\"\",\"\",\"\",\"\",\"\",\"\",\"\",\"\",\"\",\"\",\"\",\"\",\"\",\"\",\"\",\"\",\"\",\"\",\"\",\"\",\"\",\"\",\"\",\"\",\"\",\"\",\"\",\"\",\"\",\"\",\"\",\"\",\"\",\"\",\"\",\"\",\"\",\"\",\"\",\"\",\"\",\"\",\"\",\"\",\"\",\"\",\"\",\"\",\"\",\"\",\"\",\"\",\"\",\"\",\"\",\"\",\"\",\"\",\"\",\"\",\"\",\"\",\"\",\"\",\"\",\"\",\"\",\"\",\"\",\"\",\"\",\"\",\"\",\"\",\"\",\"\",\"\",\"\",\"\",\"\",\"\",\"\",\"\",\"\",\"\",\"\",\"\",\"\",\"\",\"\",\"\",\"\",\"\",\"\",\"\",\"\",\"\",\"\",\"\",\"\",\"\",\"\",\"\",\"\",\"\",\"\",\"\",\"\",\"\",\"\",\"\",\"\",\"\",\"\",\"\",\"\",\"\",\"\",\"\",\"\",\"\",\"\",\"\",\"\",\"\",\"\",\"\",\"\",\"\",\"\",\"\",\"\",\"\",\"\",\"\",\"\",\"\",\"\",\"\",\"\",\"\",\"\",\"\",\"\"],\"values\":[1,1,1,1,1,1,1,1,1,1,1,1,1,1,1,1,1,1,1,1,1,1,1,1,1,1,1,1,1,1,1,1,1,1,1,1,1,1,1,1,1,1,1,1,1,1,1,1,1,1,1,1,1,1,1,1,1,1,1,1,1,1,1,1,1,1,1,1,1,1,1,1,1,1,1,1,1,1,1,1,1,1,1,1,1,1,1,1,1,1,1,1,1,1,1,1,1,1,1,1,1,1,1,1,1,1,1,1,1,1,1,1,1,1,1,1,1,1,1,1,1,1,1,1,1,1,1,1,1,1,1,1,1,1,1,1,1,1,1,1,1,1,1,1,1,1,1,1,1,1,1,1,1,1,1,1,1,1,1,1,1,2,2,2,2,2,2,2,2,2,2,2,2,2,2,2,2,2,2,2,2,2,3,3,3,3,3,3,3,4,4,5,5,5,6,6,6,7,14,21,1,1,1,1,1,1,1,1,1,1,1,2,1,1,1,1,1,1,2,1,6,1,1,1,1,1,2,1,1,2,1,1,3,1,3,1,1,1,1,1,3,1,1,1,4,1,1,1,1,1,1,1,1,1,1,1,1,1,2,1,1,2,1,1,1,2,3,2,6,5,2,5,2,1,6,1,2,1,2,1,1,3,1,1,1,2,1,1,1,1,1,1,1,1,14,1,1,1,1,1,1,1,1,1,1,1,5,1,1,1,1,1,1,1,1,1,1,1,1,1,2,1,1,1,21,2,1,1,1,1,1,1,1,1,1,1,1,1,1,1,1,1,1,2,1,2,1,1,1,1,1,1,1,1,1,1,1,1,3,1,1,4,1,1,1,7,1,1,1,2,1,1,1,2,1,1,1,1,1,1,1,1,1,1,1,2,1,1,1,3,1,1,1,2,1,1,1,1,1,1],\"type\":\"treemap\"}],                        {\"template\":{\"data\":{\"bar\":[{\"error_x\":{\"color\":\"#2a3f5f\"},\"error_y\":{\"color\":\"#2a3f5f\"},\"marker\":{\"line\":{\"color\":\"#E5ECF6\",\"width\":0.5},\"pattern\":{\"fillmode\":\"overlay\",\"size\":10,\"solidity\":0.2}},\"type\":\"bar\"}],\"barpolar\":[{\"marker\":{\"line\":{\"color\":\"#E5ECF6\",\"width\":0.5},\"pattern\":{\"fillmode\":\"overlay\",\"size\":10,\"solidity\":0.2}},\"type\":\"barpolar\"}],\"carpet\":[{\"aaxis\":{\"endlinecolor\":\"#2a3f5f\",\"gridcolor\":\"white\",\"linecolor\":\"white\",\"minorgridcolor\":\"white\",\"startlinecolor\":\"#2a3f5f\"},\"baxis\":{\"endlinecolor\":\"#2a3f5f\",\"gridcolor\":\"white\",\"linecolor\":\"white\",\"minorgridcolor\":\"white\",\"startlinecolor\":\"#2a3f5f\"},\"type\":\"carpet\"}],\"choropleth\":[{\"colorbar\":{\"outlinewidth\":0,\"ticks\":\"\"},\"type\":\"choropleth\"}],\"contour\":[{\"colorbar\":{\"outlinewidth\":0,\"ticks\":\"\"},\"colorscale\":[[0.0,\"#0d0887\"],[0.1111111111111111,\"#46039f\"],[0.2222222222222222,\"#7201a8\"],[0.3333333333333333,\"#9c179e\"],[0.4444444444444444,\"#bd3786\"],[0.5555555555555556,\"#d8576b\"],[0.6666666666666666,\"#ed7953\"],[0.7777777777777778,\"#fb9f3a\"],[0.8888888888888888,\"#fdca26\"],[1.0,\"#f0f921\"]],\"type\":\"contour\"}],\"contourcarpet\":[{\"colorbar\":{\"outlinewidth\":0,\"ticks\":\"\"},\"type\":\"contourcarpet\"}],\"heatmap\":[{\"colorbar\":{\"outlinewidth\":0,\"ticks\":\"\"},\"colorscale\":[[0.0,\"#0d0887\"],[0.1111111111111111,\"#46039f\"],[0.2222222222222222,\"#7201a8\"],[0.3333333333333333,\"#9c179e\"],[0.4444444444444444,\"#bd3786\"],[0.5555555555555556,\"#d8576b\"],[0.6666666666666666,\"#ed7953\"],[0.7777777777777778,\"#fb9f3a\"],[0.8888888888888888,\"#fdca26\"],[1.0,\"#f0f921\"]],\"type\":\"heatmap\"}],\"heatmapgl\":[{\"colorbar\":{\"outlinewidth\":0,\"ticks\":\"\"},\"colorscale\":[[0.0,\"#0d0887\"],[0.1111111111111111,\"#46039f\"],[0.2222222222222222,\"#7201a8\"],[0.3333333333333333,\"#9c179e\"],[0.4444444444444444,\"#bd3786\"],[0.5555555555555556,\"#d8576b\"],[0.6666666666666666,\"#ed7953\"],[0.7777777777777778,\"#fb9f3a\"],[0.8888888888888888,\"#fdca26\"],[1.0,\"#f0f921\"]],\"type\":\"heatmapgl\"}],\"histogram\":[{\"marker\":{\"pattern\":{\"fillmode\":\"overlay\",\"size\":10,\"solidity\":0.2}},\"type\":\"histogram\"}],\"histogram2d\":[{\"colorbar\":{\"outlinewidth\":0,\"ticks\":\"\"},\"colorscale\":[[0.0,\"#0d0887\"],[0.1111111111111111,\"#46039f\"],[0.2222222222222222,\"#7201a8\"],[0.3333333333333333,\"#9c179e\"],[0.4444444444444444,\"#bd3786\"],[0.5555555555555556,\"#d8576b\"],[0.6666666666666666,\"#ed7953\"],[0.7777777777777778,\"#fb9f3a\"],[0.8888888888888888,\"#fdca26\"],[1.0,\"#f0f921\"]],\"type\":\"histogram2d\"}],\"histogram2dcontour\":[{\"colorbar\":{\"outlinewidth\":0,\"ticks\":\"\"},\"colorscale\":[[0.0,\"#0d0887\"],[0.1111111111111111,\"#46039f\"],[0.2222222222222222,\"#7201a8\"],[0.3333333333333333,\"#9c179e\"],[0.4444444444444444,\"#bd3786\"],[0.5555555555555556,\"#d8576b\"],[0.6666666666666666,\"#ed7953\"],[0.7777777777777778,\"#fb9f3a\"],[0.8888888888888888,\"#fdca26\"],[1.0,\"#f0f921\"]],\"type\":\"histogram2dcontour\"}],\"mesh3d\":[{\"colorbar\":{\"outlinewidth\":0,\"ticks\":\"\"},\"type\":\"mesh3d\"}],\"parcoords\":[{\"line\":{\"colorbar\":{\"outlinewidth\":0,\"ticks\":\"\"}},\"type\":\"parcoords\"}],\"pie\":[{\"automargin\":true,\"type\":\"pie\"}],\"scatter\":[{\"marker\":{\"colorbar\":{\"outlinewidth\":0,\"ticks\":\"\"}},\"type\":\"scatter\"}],\"scatter3d\":[{\"line\":{\"colorbar\":{\"outlinewidth\":0,\"ticks\":\"\"}},\"marker\":{\"colorbar\":{\"outlinewidth\":0,\"ticks\":\"\"}},\"type\":\"scatter3d\"}],\"scattercarpet\":[{\"marker\":{\"colorbar\":{\"outlinewidth\":0,\"ticks\":\"\"}},\"type\":\"scattercarpet\"}],\"scattergeo\":[{\"marker\":{\"colorbar\":{\"outlinewidth\":0,\"ticks\":\"\"}},\"type\":\"scattergeo\"}],\"scattergl\":[{\"marker\":{\"colorbar\":{\"outlinewidth\":0,\"ticks\":\"\"}},\"type\":\"scattergl\"}],\"scattermapbox\":[{\"marker\":{\"colorbar\":{\"outlinewidth\":0,\"ticks\":\"\"}},\"type\":\"scattermapbox\"}],\"scatterpolar\":[{\"marker\":{\"colorbar\":{\"outlinewidth\":0,\"ticks\":\"\"}},\"type\":\"scatterpolar\"}],\"scatterpolargl\":[{\"marker\":{\"colorbar\":{\"outlinewidth\":0,\"ticks\":\"\"}},\"type\":\"scatterpolargl\"}],\"scatterternary\":[{\"marker\":{\"colorbar\":{\"outlinewidth\":0,\"ticks\":\"\"}},\"type\":\"scatterternary\"}],\"surface\":[{\"colorbar\":{\"outlinewidth\":0,\"ticks\":\"\"},\"colorscale\":[[0.0,\"#0d0887\"],[0.1111111111111111,\"#46039f\"],[0.2222222222222222,\"#7201a8\"],[0.3333333333333333,\"#9c179e\"],[0.4444444444444444,\"#bd3786\"],[0.5555555555555556,\"#d8576b\"],[0.6666666666666666,\"#ed7953\"],[0.7777777777777778,\"#fb9f3a\"],[0.8888888888888888,\"#fdca26\"],[1.0,\"#f0f921\"]],\"type\":\"surface\"}],\"table\":[{\"cells\":{\"fill\":{\"color\":\"#EBF0F8\"},\"line\":{\"color\":\"white\"}},\"header\":{\"fill\":{\"color\":\"#C8D4E3\"},\"line\":{\"color\":\"white\"}},\"type\":\"table\"}]},\"layout\":{\"annotationdefaults\":{\"arrowcolor\":\"#2a3f5f\",\"arrowhead\":0,\"arrowwidth\":1},\"autotypenumbers\":\"strict\",\"coloraxis\":{\"colorbar\":{\"outlinewidth\":0,\"ticks\":\"\"}},\"colorscale\":{\"diverging\":[[0,\"#8e0152\"],[0.1,\"#c51b7d\"],[0.2,\"#de77ae\"],[0.3,\"#f1b6da\"],[0.4,\"#fde0ef\"],[0.5,\"#f7f7f7\"],[0.6,\"#e6f5d0\"],[0.7,\"#b8e186\"],[0.8,\"#7fbc41\"],[0.9,\"#4d9221\"],[1,\"#276419\"]],\"sequential\":[[0.0,\"#0d0887\"],[0.1111111111111111,\"#46039f\"],[0.2222222222222222,\"#7201a8\"],[0.3333333333333333,\"#9c179e\"],[0.4444444444444444,\"#bd3786\"],[0.5555555555555556,\"#d8576b\"],[0.6666666666666666,\"#ed7953\"],[0.7777777777777778,\"#fb9f3a\"],[0.8888888888888888,\"#fdca26\"],[1.0,\"#f0f921\"]],\"sequentialminus\":[[0.0,\"#0d0887\"],[0.1111111111111111,\"#46039f\"],[0.2222222222222222,\"#7201a8\"],[0.3333333333333333,\"#9c179e\"],[0.4444444444444444,\"#bd3786\"],[0.5555555555555556,\"#d8576b\"],[0.6666666666666666,\"#ed7953\"],[0.7777777777777778,\"#fb9f3a\"],[0.8888888888888888,\"#fdca26\"],[1.0,\"#f0f921\"]]},\"colorway\":[\"#636efa\",\"#EF553B\",\"#00cc96\",\"#ab63fa\",\"#FFA15A\",\"#19d3f3\",\"#FF6692\",\"#B6E880\",\"#FF97FF\",\"#FECB52\"],\"font\":{\"color\":\"#2a3f5f\"},\"geo\":{\"bgcolor\":\"white\",\"lakecolor\":\"white\",\"landcolor\":\"#E5ECF6\",\"showlakes\":true,\"showland\":true,\"subunitcolor\":\"white\"},\"hoverlabel\":{\"align\":\"left\"},\"hovermode\":\"closest\",\"mapbox\":{\"style\":\"light\"},\"paper_bgcolor\":\"white\",\"plot_bgcolor\":\"#E5ECF6\",\"polar\":{\"angularaxis\":{\"gridcolor\":\"white\",\"linecolor\":\"white\",\"ticks\":\"\"},\"bgcolor\":\"#E5ECF6\",\"radialaxis\":{\"gridcolor\":\"white\",\"linecolor\":\"white\",\"ticks\":\"\"}},\"scene\":{\"xaxis\":{\"backgroundcolor\":\"#E5ECF6\",\"gridcolor\":\"white\",\"gridwidth\":2,\"linecolor\":\"white\",\"showbackground\":true,\"ticks\":\"\",\"zerolinecolor\":\"white\"},\"yaxis\":{\"backgroundcolor\":\"#E5ECF6\",\"gridcolor\":\"white\",\"gridwidth\":2,\"linecolor\":\"white\",\"showbackground\":true,\"ticks\":\"\",\"zerolinecolor\":\"white\"},\"zaxis\":{\"backgroundcolor\":\"#E5ECF6\",\"gridcolor\":\"white\",\"gridwidth\":2,\"linecolor\":\"white\",\"showbackground\":true,\"ticks\":\"\",\"zerolinecolor\":\"white\"}},\"shapedefaults\":{\"line\":{\"color\":\"#2a3f5f\"}},\"ternary\":{\"aaxis\":{\"gridcolor\":\"white\",\"linecolor\":\"white\",\"ticks\":\"\"},\"baxis\":{\"gridcolor\":\"white\",\"linecolor\":\"white\",\"ticks\":\"\"},\"bgcolor\":\"#E5ECF6\",\"caxis\":{\"gridcolor\":\"white\",\"linecolor\":\"white\",\"ticks\":\"\"}},\"title\":{\"x\":0.05},\"xaxis\":{\"automargin\":true,\"gridcolor\":\"white\",\"linecolor\":\"white\",\"ticks\":\"\",\"title\":{\"standoff\":15},\"zerolinecolor\":\"white\",\"zerolinewidth\":2},\"yaxis\":{\"automargin\":true,\"gridcolor\":\"white\",\"linecolor\":\"white\",\"ticks\":\"\",\"title\":{\"standoff\":15},\"zerolinecolor\":\"white\",\"zerolinewidth\":2}}},\"legend\":{\"tracegroupgap\":0},\"title\":{\"text\":\"Tree Map for companies that my Connections are working at.\"},\"height\":900,\"width\":1000},                        {\"responsive\": true}                    ).then(function(){\n",
              "                            \n",
              "var gd = document.getElementById('e8d2d8dc-7464-427e-aabc-39309217d7ee');\n",
              "var x = new MutationObserver(function (mutations, observer) {{\n",
              "        var display = window.getComputedStyle(gd).display;\n",
              "        if (!display || display === 'none') {{\n",
              "            console.log([gd, 'removed!']);\n",
              "            Plotly.purge(gd);\n",
              "            observer.disconnect();\n",
              "        }}\n",
              "}});\n",
              "\n",
              "// Listen for the removal of the full notebook cells\n",
              "var notebookContainer = gd.closest('#notebook-container');\n",
              "if (notebookContainer) {{\n",
              "    x.observe(notebookContainer, {childList: true});\n",
              "}}\n",
              "\n",
              "// Listen for the clearing of the current output cell\n",
              "var outputEl = gd.closest('.output');\n",
              "if (outputEl) {{\n",
              "    x.observe(outputEl, {childList: true});\n",
              "}}\n",
              "\n",
              "                        })                };                            </script>        </div>\n",
              "</body>\n",
              "</html>"
            ]
          },
          "metadata": {}
        }
      ]
    },
    {
      "cell_type": "markdown",
      "source": [
        "Positions: Which Positions do my connections hold?"
      ],
      "metadata": {
        "id": "UP0d-7HfKcF4"
      }
    },
    {
      "cell_type": "code",
      "source": [
        "data['Position'].value_counts()"
      ],
      "metadata": {
        "colab": {
          "base_uri": "https://localhost:8080/"
        },
        "id": "0vEIgCOiKeQ0",
        "outputId": "1b16f6a5-e074-43eb-b5a2-3267f325818f"
      },
      "execution_count": 23,
      "outputs": [
        {
          "output_type": "execute_result",
          "data": {
            "text/plain": [
              "Data Analyst                                     93\n",
              "Business Analyst                                 12\n",
              "Data Scientist                                    9\n",
              "Senior Data Analyst                               8\n",
              "Data Science Intern                               6\n",
              "                                                 ..\n",
              "Subject Matter Expert                             1\n",
              "Sr Data Analyst                                   1\n",
              "Executive Analyst                                 1\n",
              "Spatial Data Specialist 1                         1\n",
              "Data Management and Analysis Services Analyst     1\n",
              "Name: Position, Length: 210, dtype: int64"
            ]
          },
          "metadata": {},
          "execution_count": 23
        }
      ]
    },
    {
      "cell_type": "markdown",
      "source": [
        "From the above, we can see that most of my connections are Data Analyst,Business Analyst,Data Scientist."
      ],
      "metadata": {
        "id": "hubgjz8uKqXE"
      }
    },
    {
      "cell_type": "markdown",
      "source": [
        " I am going to count all the number of positions and find the percentage of each each position, and also give a condition to make the selection (e.g. I can find all the positions that are having more than 20% connections)."
      ],
      "metadata": {
        "id": "vMsNdLClLZ7-"
      }
    },
    {
      "cell_type": "code",
      "source": [
        "data['Position'].value_counts()/len(data)*100 > 0.20"
      ],
      "metadata": {
        "colab": {
          "base_uri": "https://localhost:8080/"
        },
        "id": "Uqy3bH7lLbgL",
        "outputId": "1c01517e-a3eb-4cac-bb33-21b0ae5fcbe9"
      },
      "execution_count": 24,
      "outputs": [
        {
          "output_type": "execute_result",
          "data": {
            "text/plain": [
              "Data Analyst                                     True\n",
              "Business Analyst                                 True\n",
              "Data Scientist                                   True\n",
              "Senior Data Analyst                              True\n",
              "Data Science Intern                              True\n",
              "                                                 ... \n",
              "Subject Matter Expert                            True\n",
              "Sr Data Analyst                                  True\n",
              "Executive Analyst                                True\n",
              "Spatial Data Specialist 1                        True\n",
              "Data Management and Analysis Services Analyst    True\n",
              "Name: Position, Length: 210, dtype: bool"
            ]
          },
          "metadata": {},
          "execution_count": 24
        }
      ]
    },
    {
      "cell_type": "code",
      "source": [
        "data['Position'].value_counts()[data['Position'].value_counts()/len(data)*100 > 0.20]"
      ],
      "metadata": {
        "colab": {
          "base_uri": "https://localhost:8080/"
        },
        "id": "Tswg_xpnLizE",
        "outputId": "440d9b30-2f0a-45e4-8c98-45b738392be7"
      },
      "execution_count": 25,
      "outputs": [
        {
          "output_type": "execute_result",
          "data": {
            "text/plain": [
              "Data Analyst                                     93\n",
              "Business Analyst                                 12\n",
              "Data Scientist                                    9\n",
              "Senior Data Analyst                               8\n",
              "Data Science Intern                               6\n",
              "                                                 ..\n",
              "Subject Matter Expert                             1\n",
              "Sr Data Analyst                                   1\n",
              "Executive Analyst                                 1\n",
              "Spatial Data Specialist 1                         1\n",
              "Data Management and Analysis Services Analyst     1\n",
              "Name: Position, Length: 210, dtype: int64"
            ]
          },
          "metadata": {},
          "execution_count": 25
        }
      ]
    },
    {
      "cell_type": "markdown",
      "source": [
        "Let’s visualise this with Plotly."
      ],
      "metadata": {
        "id": "Z5cO2sFHL0_L"
      }
    },
    {
      "cell_type": "code",
      "source": [
        "fig = px.bar(data.groupby(by='Position').count().sort_values(by='First Name', ascending=False)[:50].reset_index()\n",
        "       ,x='Position',\n",
        "       y='Connected On',\n",
        "       labels={'Connected On': 'Number Of Connections'},\n",
        "        title= 'The various Positions occupied by my LinkedIn Connections'\n",
        "      )"
      ],
      "metadata": {
        "id": "2d-OfLm8L2wJ"
      },
      "execution_count": 27,
      "outputs": []
    },
    {
      "cell_type": "code",
      "source": [
        "fig"
      ],
      "metadata": {
        "colab": {
          "base_uri": "https://localhost:8080/",
          "height": 542
        },
        "id": "kbD2lYQbL_ro",
        "outputId": "b544774c-3ea7-407d-d9c9-6771ee867a09"
      },
      "execution_count": 28,
      "outputs": [
        {
          "output_type": "display_data",
          "data": {
            "text/html": [
              "<html>\n",
              "<head><meta charset=\"utf-8\" /></head>\n",
              "<body>\n",
              "    <div>            <script src=\"https://cdnjs.cloudflare.com/ajax/libs/mathjax/2.7.5/MathJax.js?config=TeX-AMS-MML_SVG\"></script><script type=\"text/javascript\">if (window.MathJax) {MathJax.Hub.Config({SVG: {font: \"STIX-Web\"}});}</script>                <script type=\"text/javascript\">window.PlotlyConfig = {MathJaxConfig: 'local'};</script>\n",
              "        <script src=\"https://cdn.plot.ly/plotly-2.8.3.min.js\"></script>                <div id=\"33a43bdb-4246-4396-9aa7-03b436cb55d1\" class=\"plotly-graph-div\" style=\"height:525px; width:100%;\"></div>            <script type=\"text/javascript\">                                    window.PLOTLYENV=window.PLOTLYENV || {};                                    if (document.getElementById(\"33a43bdb-4246-4396-9aa7-03b436cb55d1\")) {                    Plotly.newPlot(                        \"33a43bdb-4246-4396-9aa7-03b436cb55d1\",                        [{\"alignmentgroup\":\"True\",\"hovertemplate\":\"Position=%{x}<br>Number Of Connections=%{y}<extra></extra>\",\"legendgroup\":\"\",\"marker\":{\"color\":\"#636efa\",\"pattern\":{\"shape\":\"\"}},\"name\":\"\",\"offsetgroup\":\"\",\"orientation\":\"v\",\"showlegend\":false,\"textposition\":\"auto\",\"x\":[\"Data Analyst\",\"Business Analyst\",\"Data Scientist\",\"Senior Data Analyst\",\"Data Science Intern\",\"Data Engineer\",\"Analyst\",\"Data Science Analyst\",\"Co-Founder\",\"Senior Analyst\",\"Data Analyst Training\",\"Data Analyst Trainee\",\"Data Analyst Training \",\"Intern\",\"Software Engineer\",\"Python Developer\",\"Director\",\"Computer Operator\",\"Data processing analyst\",\"Operations Manager\",\"Senior Data Engineer\",\"Data Analyst Intern\",\"Data Processing Analyst\",\"Machine Learning Intern\",\"Information Technology Trainee\",\"Software Developer\",\"Student\",\"Assistant System Engineer\",\"Assistant Manager\",\"Associate\",\"Associate Consultant\",\"System Engineer\",\"Web Developer\",\"Internship Appreciation Letter\",\"Junior Business Analyst\",\"Junior Manager\",\"Project Engineer\",\"Instructional Associate\",\"Junior Data Analyst \",\"Junior Data Analyst\",\"Project Assistant\",\"Programmer Analyst Trainee\",\"Placement Team\",\"Process Analyst\",\"Pgt computer science \",\"Project Analyst\",\"Product Growth Analyst\",\"Internship Trainee\",\"Product Analyst\",\"ML data associate II (tron Subject Matter Expert)\"],\"xaxis\":\"x\",\"y\":[93,12,9,8,6,5,4,3,3,3,3,3,3,3,3,2,2,2,2,2,2,2,2,2,2,2,2,2,2,2,2,2,2,1,1,1,1,1,1,1,1,1,1,1,1,1,1,1,1,1],\"yaxis\":\"y\",\"type\":\"bar\"}],                        {\"template\":{\"data\":{\"bar\":[{\"error_x\":{\"color\":\"#2a3f5f\"},\"error_y\":{\"color\":\"#2a3f5f\"},\"marker\":{\"line\":{\"color\":\"#E5ECF6\",\"width\":0.5},\"pattern\":{\"fillmode\":\"overlay\",\"size\":10,\"solidity\":0.2}},\"type\":\"bar\"}],\"barpolar\":[{\"marker\":{\"line\":{\"color\":\"#E5ECF6\",\"width\":0.5},\"pattern\":{\"fillmode\":\"overlay\",\"size\":10,\"solidity\":0.2}},\"type\":\"barpolar\"}],\"carpet\":[{\"aaxis\":{\"endlinecolor\":\"#2a3f5f\",\"gridcolor\":\"white\",\"linecolor\":\"white\",\"minorgridcolor\":\"white\",\"startlinecolor\":\"#2a3f5f\"},\"baxis\":{\"endlinecolor\":\"#2a3f5f\",\"gridcolor\":\"white\",\"linecolor\":\"white\",\"minorgridcolor\":\"white\",\"startlinecolor\":\"#2a3f5f\"},\"type\":\"carpet\"}],\"choropleth\":[{\"colorbar\":{\"outlinewidth\":0,\"ticks\":\"\"},\"type\":\"choropleth\"}],\"contour\":[{\"colorbar\":{\"outlinewidth\":0,\"ticks\":\"\"},\"colorscale\":[[0.0,\"#0d0887\"],[0.1111111111111111,\"#46039f\"],[0.2222222222222222,\"#7201a8\"],[0.3333333333333333,\"#9c179e\"],[0.4444444444444444,\"#bd3786\"],[0.5555555555555556,\"#d8576b\"],[0.6666666666666666,\"#ed7953\"],[0.7777777777777778,\"#fb9f3a\"],[0.8888888888888888,\"#fdca26\"],[1.0,\"#f0f921\"]],\"type\":\"contour\"}],\"contourcarpet\":[{\"colorbar\":{\"outlinewidth\":0,\"ticks\":\"\"},\"type\":\"contourcarpet\"}],\"heatmap\":[{\"colorbar\":{\"outlinewidth\":0,\"ticks\":\"\"},\"colorscale\":[[0.0,\"#0d0887\"],[0.1111111111111111,\"#46039f\"],[0.2222222222222222,\"#7201a8\"],[0.3333333333333333,\"#9c179e\"],[0.4444444444444444,\"#bd3786\"],[0.5555555555555556,\"#d8576b\"],[0.6666666666666666,\"#ed7953\"],[0.7777777777777778,\"#fb9f3a\"],[0.8888888888888888,\"#fdca26\"],[1.0,\"#f0f921\"]],\"type\":\"heatmap\"}],\"heatmapgl\":[{\"colorbar\":{\"outlinewidth\":0,\"ticks\":\"\"},\"colorscale\":[[0.0,\"#0d0887\"],[0.1111111111111111,\"#46039f\"],[0.2222222222222222,\"#7201a8\"],[0.3333333333333333,\"#9c179e\"],[0.4444444444444444,\"#bd3786\"],[0.5555555555555556,\"#d8576b\"],[0.6666666666666666,\"#ed7953\"],[0.7777777777777778,\"#fb9f3a\"],[0.8888888888888888,\"#fdca26\"],[1.0,\"#f0f921\"]],\"type\":\"heatmapgl\"}],\"histogram\":[{\"marker\":{\"pattern\":{\"fillmode\":\"overlay\",\"size\":10,\"solidity\":0.2}},\"type\":\"histogram\"}],\"histogram2d\":[{\"colorbar\":{\"outlinewidth\":0,\"ticks\":\"\"},\"colorscale\":[[0.0,\"#0d0887\"],[0.1111111111111111,\"#46039f\"],[0.2222222222222222,\"#7201a8\"],[0.3333333333333333,\"#9c179e\"],[0.4444444444444444,\"#bd3786\"],[0.5555555555555556,\"#d8576b\"],[0.6666666666666666,\"#ed7953\"],[0.7777777777777778,\"#fb9f3a\"],[0.8888888888888888,\"#fdca26\"],[1.0,\"#f0f921\"]],\"type\":\"histogram2d\"}],\"histogram2dcontour\":[{\"colorbar\":{\"outlinewidth\":0,\"ticks\":\"\"},\"colorscale\":[[0.0,\"#0d0887\"],[0.1111111111111111,\"#46039f\"],[0.2222222222222222,\"#7201a8\"],[0.3333333333333333,\"#9c179e\"],[0.4444444444444444,\"#bd3786\"],[0.5555555555555556,\"#d8576b\"],[0.6666666666666666,\"#ed7953\"],[0.7777777777777778,\"#fb9f3a\"],[0.8888888888888888,\"#fdca26\"],[1.0,\"#f0f921\"]],\"type\":\"histogram2dcontour\"}],\"mesh3d\":[{\"colorbar\":{\"outlinewidth\":0,\"ticks\":\"\"},\"type\":\"mesh3d\"}],\"parcoords\":[{\"line\":{\"colorbar\":{\"outlinewidth\":0,\"ticks\":\"\"}},\"type\":\"parcoords\"}],\"pie\":[{\"automargin\":true,\"type\":\"pie\"}],\"scatter\":[{\"marker\":{\"colorbar\":{\"outlinewidth\":0,\"ticks\":\"\"}},\"type\":\"scatter\"}],\"scatter3d\":[{\"line\":{\"colorbar\":{\"outlinewidth\":0,\"ticks\":\"\"}},\"marker\":{\"colorbar\":{\"outlinewidth\":0,\"ticks\":\"\"}},\"type\":\"scatter3d\"}],\"scattercarpet\":[{\"marker\":{\"colorbar\":{\"outlinewidth\":0,\"ticks\":\"\"}},\"type\":\"scattercarpet\"}],\"scattergeo\":[{\"marker\":{\"colorbar\":{\"outlinewidth\":0,\"ticks\":\"\"}},\"type\":\"scattergeo\"}],\"scattergl\":[{\"marker\":{\"colorbar\":{\"outlinewidth\":0,\"ticks\":\"\"}},\"type\":\"scattergl\"}],\"scattermapbox\":[{\"marker\":{\"colorbar\":{\"outlinewidth\":0,\"ticks\":\"\"}},\"type\":\"scattermapbox\"}],\"scatterpolar\":[{\"marker\":{\"colorbar\":{\"outlinewidth\":0,\"ticks\":\"\"}},\"type\":\"scatterpolar\"}],\"scatterpolargl\":[{\"marker\":{\"colorbar\":{\"outlinewidth\":0,\"ticks\":\"\"}},\"type\":\"scatterpolargl\"}],\"scatterternary\":[{\"marker\":{\"colorbar\":{\"outlinewidth\":0,\"ticks\":\"\"}},\"type\":\"scatterternary\"}],\"surface\":[{\"colorbar\":{\"outlinewidth\":0,\"ticks\":\"\"},\"colorscale\":[[0.0,\"#0d0887\"],[0.1111111111111111,\"#46039f\"],[0.2222222222222222,\"#7201a8\"],[0.3333333333333333,\"#9c179e\"],[0.4444444444444444,\"#bd3786\"],[0.5555555555555556,\"#d8576b\"],[0.6666666666666666,\"#ed7953\"],[0.7777777777777778,\"#fb9f3a\"],[0.8888888888888888,\"#fdca26\"],[1.0,\"#f0f921\"]],\"type\":\"surface\"}],\"table\":[{\"cells\":{\"fill\":{\"color\":\"#EBF0F8\"},\"line\":{\"color\":\"white\"}},\"header\":{\"fill\":{\"color\":\"#C8D4E3\"},\"line\":{\"color\":\"white\"}},\"type\":\"table\"}]},\"layout\":{\"annotationdefaults\":{\"arrowcolor\":\"#2a3f5f\",\"arrowhead\":0,\"arrowwidth\":1},\"autotypenumbers\":\"strict\",\"coloraxis\":{\"colorbar\":{\"outlinewidth\":0,\"ticks\":\"\"}},\"colorscale\":{\"diverging\":[[0,\"#8e0152\"],[0.1,\"#c51b7d\"],[0.2,\"#de77ae\"],[0.3,\"#f1b6da\"],[0.4,\"#fde0ef\"],[0.5,\"#f7f7f7\"],[0.6,\"#e6f5d0\"],[0.7,\"#b8e186\"],[0.8,\"#7fbc41\"],[0.9,\"#4d9221\"],[1,\"#276419\"]],\"sequential\":[[0.0,\"#0d0887\"],[0.1111111111111111,\"#46039f\"],[0.2222222222222222,\"#7201a8\"],[0.3333333333333333,\"#9c179e\"],[0.4444444444444444,\"#bd3786\"],[0.5555555555555556,\"#d8576b\"],[0.6666666666666666,\"#ed7953\"],[0.7777777777777778,\"#fb9f3a\"],[0.8888888888888888,\"#fdca26\"],[1.0,\"#f0f921\"]],\"sequentialminus\":[[0.0,\"#0d0887\"],[0.1111111111111111,\"#46039f\"],[0.2222222222222222,\"#7201a8\"],[0.3333333333333333,\"#9c179e\"],[0.4444444444444444,\"#bd3786\"],[0.5555555555555556,\"#d8576b\"],[0.6666666666666666,\"#ed7953\"],[0.7777777777777778,\"#fb9f3a\"],[0.8888888888888888,\"#fdca26\"],[1.0,\"#f0f921\"]]},\"colorway\":[\"#636efa\",\"#EF553B\",\"#00cc96\",\"#ab63fa\",\"#FFA15A\",\"#19d3f3\",\"#FF6692\",\"#B6E880\",\"#FF97FF\",\"#FECB52\"],\"font\":{\"color\":\"#2a3f5f\"},\"geo\":{\"bgcolor\":\"white\",\"lakecolor\":\"white\",\"landcolor\":\"#E5ECF6\",\"showlakes\":true,\"showland\":true,\"subunitcolor\":\"white\"},\"hoverlabel\":{\"align\":\"left\"},\"hovermode\":\"closest\",\"mapbox\":{\"style\":\"light\"},\"paper_bgcolor\":\"white\",\"plot_bgcolor\":\"#E5ECF6\",\"polar\":{\"angularaxis\":{\"gridcolor\":\"white\",\"linecolor\":\"white\",\"ticks\":\"\"},\"bgcolor\":\"#E5ECF6\",\"radialaxis\":{\"gridcolor\":\"white\",\"linecolor\":\"white\",\"ticks\":\"\"}},\"scene\":{\"xaxis\":{\"backgroundcolor\":\"#E5ECF6\",\"gridcolor\":\"white\",\"gridwidth\":2,\"linecolor\":\"white\",\"showbackground\":true,\"ticks\":\"\",\"zerolinecolor\":\"white\"},\"yaxis\":{\"backgroundcolor\":\"#E5ECF6\",\"gridcolor\":\"white\",\"gridwidth\":2,\"linecolor\":\"white\",\"showbackground\":true,\"ticks\":\"\",\"zerolinecolor\":\"white\"},\"zaxis\":{\"backgroundcolor\":\"#E5ECF6\",\"gridcolor\":\"white\",\"gridwidth\":2,\"linecolor\":\"white\",\"showbackground\":true,\"ticks\":\"\",\"zerolinecolor\":\"white\"}},\"shapedefaults\":{\"line\":{\"color\":\"#2a3f5f\"}},\"ternary\":{\"aaxis\":{\"gridcolor\":\"white\",\"linecolor\":\"white\",\"ticks\":\"\"},\"baxis\":{\"gridcolor\":\"white\",\"linecolor\":\"white\",\"ticks\":\"\"},\"bgcolor\":\"#E5ECF6\",\"caxis\":{\"gridcolor\":\"white\",\"linecolor\":\"white\",\"ticks\":\"\"}},\"title\":{\"x\":0.05},\"xaxis\":{\"automargin\":true,\"gridcolor\":\"white\",\"linecolor\":\"white\",\"ticks\":\"\",\"title\":{\"standoff\":15},\"zerolinecolor\":\"white\",\"zerolinewidth\":2},\"yaxis\":{\"automargin\":true,\"gridcolor\":\"white\",\"linecolor\":\"white\",\"ticks\":\"\",\"title\":{\"standoff\":15},\"zerolinecolor\":\"white\",\"zerolinewidth\":2}}},\"xaxis\":{\"anchor\":\"y\",\"domain\":[0.0,1.0],\"title\":{\"text\":\"Position\"}},\"yaxis\":{\"anchor\":\"x\",\"domain\":[0.0,1.0],\"title\":{\"text\":\"Number Of Connections\"}},\"legend\":{\"tracegroupgap\":0},\"title\":{\"text\":\"The various Positions occupied by my LinkedIn Connections\"},\"barmode\":\"relative\"},                        {\"responsive\": true}                    ).then(function(){\n",
              "                            \n",
              "var gd = document.getElementById('33a43bdb-4246-4396-9aa7-03b436cb55d1');\n",
              "var x = new MutationObserver(function (mutations, observer) {{\n",
              "        var display = window.getComputedStyle(gd).display;\n",
              "        if (!display || display === 'none') {{\n",
              "            console.log([gd, 'removed!']);\n",
              "            Plotly.purge(gd);\n",
              "            observer.disconnect();\n",
              "        }}\n",
              "}});\n",
              "\n",
              "// Listen for the removal of the full notebook cells\n",
              "var notebookContainer = gd.closest('#notebook-container');\n",
              "if (notebookContainer) {{\n",
              "    x.observe(notebookContainer, {childList: true});\n",
              "}}\n",
              "\n",
              "// Listen for the clearing of the current output cell\n",
              "var outputEl = gd.closest('.output');\n",
              "if (outputEl) {{\n",
              "    x.observe(outputEl, {childList: true});\n",
              "}}\n",
              "\n",
              "                        })                };                            </script>        </div>\n",
              "</body>\n",
              "</html>"
            ]
          },
          "metadata": {}
        }
      ]
    }
  ]
}